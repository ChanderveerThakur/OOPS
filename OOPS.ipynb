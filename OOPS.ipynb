{
 "cells": [
  {
   "cell_type": "markdown",
   "id": "9e435189",
   "metadata": {},
   "source": [
    " 1. What is a constructor in Python? Explain its purpose and usage.\n"
   ]
  },
  {
   "cell_type": "markdown",
   "id": "4e08b451",
   "metadata": {},
   "source": [
    "Meaning: Constructors in Python is a special class method for creating and initializing an object instance at that class.\n",
    "\n",
    "Purpose and usage:\n",
    "The purpose of constructors is to initialize(assign values) to the data members of the class when an object of class is created.\n",
    "\n",
    "Class constructors are a fundamental part of object-oriented programming in Python. They allow you to create and properly initialize objects of a given class, making those objects ready to use.\n"
   ]
  },
  {
   "cell_type": "markdown",
   "id": "acecd9c7",
   "metadata": {},
   "source": [
    "2. Differentiate between a parameterless constructor and a parameterized constructor in\n",
    " Python.\n",
    " "
   ]
  },
  {
   "cell_type": "raw",
   "id": "4f997a43",
   "metadata": {},
   "source": [
    "Parameterless constructor does not take any parameter when the object is instantiated. For example:\n",
    "class myclass:\n",
    "      def __init__(self):\n",
    "           pass\n",
    "a = myclass()\n",
    "\n",
    "Whereas, Parameterized constructor allows us to pass initial value to the object during instantiation. For Example:\n",
    "\n",
    "class myclass:\n",
    "      def __init__(self, value):\n",
    "           self.value = value\n",
    "           \n",
    "b = myclass(5)"
   ]
  },
  {
   "cell_type": "markdown",
   "id": "6a98402b",
   "metadata": {},
   "source": [
    " 3. How do you define a constructor in a Python class? Provide an example.\n"
   ]
  },
  {
   "cell_type": "raw",
   "id": "3ebae58d",
   "metadata": {},
   "source": [
    "To define a constructor in python we need to create a class then inside a function we can define a constructor to initialize a parameter at the time of object creation.\n",
    "\n",
    "class myclass:\n",
    "      def __init__(self , x):\n",
    "            self.x = x\n",
    "            \n",
    "a = myclass()\n",
    "\n",
    "In the above class __init__ is behaving like a constructor"
   ]
  },
  {
   "cell_type": "markdown",
   "id": "1b4f6632",
   "metadata": {},
   "source": [
    " 4. Explain the `__init__` method in Python and its role in constructors.\n"
   ]
  },
  {
   "cell_type": "markdown",
   "id": "6c9ae053",
   "metadata": {},
   "source": [
    "The __init__ method in Python is a special method used to initialize objects created from a class. It serves as the constructor for the class, allowing you to specify how object attributes should be initialized when an instance is created. This method is automatically called when you create a new object from the class, and it can take parameters to set initial values for object attributes."
   ]
  },
  {
   "cell_type": "markdown",
   "id": "0b386879",
   "metadata": {},
   "source": [
    " 5. In a class named `Person`, create a constructor that initializes the `name` and `age`\n",
    " attributes. Provide an example of creating an object of this class."
   ]
  },
  {
   "cell_type": "code",
   "execution_count": 10,
   "id": "14a3603b",
   "metadata": {},
   "outputs": [
    {
     "data": {
      "text/plain": [
       "('Python', 35)"
      ]
     },
     "execution_count": 10,
     "metadata": {},
     "output_type": "execute_result"
    }
   ],
   "source": [
    "class Person:\n",
    "    def __init__(self , name , Age):\n",
    "        self.name = name\n",
    "        self.Age = Age\n",
    "    def details(self):\n",
    "        return self.name , self.Age\n",
    "   \n",
    "obj = Person('Python' , 35)\n",
    "obj.details()\n"
   ]
  },
  {
   "cell_type": "markdown",
   "id": "129ff1f8",
   "metadata": {},
   "source": [
    " 6. How can you call a constructor explicitly in Python? Give an example.\n"
   ]
  },
  {
   "cell_type": "raw",
   "id": "323a314f",
   "metadata": {},
   "source": [
    "In Python, we can call a constructor explicitly by using the class name followed by parentheses with any required parameters. This can be useful when you want to create multiple instances with different initializations. Here's an example:\n",
    "\n",
    "class MyClass:\n",
    "    def __init__(self, value):\n",
    "        self.value = value\n",
    "obj = MyClass(22)\n",
    "print(obj.value)\n",
    "       \n",
    "   "
   ]
  },
  {
   "cell_type": "markdown",
   "id": "699615ce",
   "metadata": {},
   "source": [
    "7. What is the significance of the `self` parameter in Python constructors? Explain with an\n",
    "example"
   ]
  },
  {
   "cell_type": "raw",
   "id": "01dbfb86",
   "metadata": {},
   "source": [
    "The self parameter in Python constructors refers to the instance being created and allows you to initialize and access instance-specific attributes. It distinguishes between different objects of the same class. For example:\n",
    "\n",
    "class MyClass:\n",
    "    def __init__(self, value):\n",
    "        self.value = value\n",
    "obj = MyClass(22)\n",
    "print(obj.value)\n",
    "\n",
    "In this example, self helps set and access the value attribute for each instance, making them distinct."
   ]
  },
  {
   "cell_type": "markdown",
   "id": "10bc035d",
   "metadata": {},
   "source": [
    "8. Discuss the concept of default constructors in Python. When are they used?\n"
   ]
  },
  {
   "cell_type": "markdown",
   "id": "aeb54d64",
   "metadata": {},
   "source": [
    "Default constructors in Python are automatically provided when you don't define any constructor in a class. They have no parameters and initialize object attributes to default values. They are used when you create an object without explicitly calling a constructor, allowing for basic object initialization."
   ]
  },
  {
   "cell_type": "markdown",
   "id": "6d8e8117",
   "metadata": {},
   "source": [
    "9. Create a Python class called `Rectangle` with a constructor that initializes the `width` and\n",
    "`height` attributes. Provide a method to calculate the area of the rectangle"
   ]
  },
  {
   "cell_type": "code",
   "execution_count": 12,
   "id": "67c8bd0d",
   "metadata": {},
   "outputs": [
    {
     "data": {
      "text/plain": [
       "6"
      ]
     },
     "execution_count": 12,
     "metadata": {},
     "output_type": "execute_result"
    }
   ],
   "source": [
    "class rectangle:\n",
    "    def __init__(self , width , height):\n",
    "        self.width = width\n",
    "        self.height = height\n",
    "    def area_of_rectangle(self):\n",
    "        return self.width * self.height\n",
    "    \n",
    "a = rectangle(2,3)\n",
    "a.area_of_rectangle()"
   ]
  },
  {
   "cell_type": "markdown",
   "id": "91d12c86",
   "metadata": {},
   "source": [
    "10. How can you have multiple constructors in a Python class? Explain with an example.\n"
   ]
  },
  {
   "cell_type": "markdown",
   "id": "ef5b9d71",
   "metadata": {},
   "source": [
    "In Python, we can have multiple constructors in a class by using a combination of default argument values and class methods. Unlike some other programming languages like Java, Python doesn't support method overloading based on the number or types of arguments, but you can achieve similar functionality using default arguments and class methods.\n"
   ]
  },
  {
   "cell_type": "code",
   "execution_count": 14,
   "id": "9390a15d",
   "metadata": {},
   "outputs": [
    {
     "name": "stdout",
     "output_type": "stream",
     "text": [
      "Rectangle 1 - Length: 5, Width: 3\n",
      "Square - Length: 4, Width: 4\n"
     ]
    }
   ],
   "source": [
    "class Rectangle:\n",
    "    def __init__(self, length=0, width=0):\n",
    "        self.length = length\n",
    "        self.width = width\n",
    "\n",
    "    @classmethod\n",
    "    def create_square(cls, side_length):\n",
    "        # This is a class method that acts as an alternative constructor.\n",
    "        return cls(side_length, side_length)\n",
    "\n",
    "    def area(self):\n",
    "        return self.length * self.width\n",
    "\n",
    "    def perimeter(self):\n",
    "        return 2 * (self.length + self.width)\n",
    "\n",
    "rectangle1 = Rectangle(5, 3)\n",
    "square = Rectangle.create_square(4)\n",
    "\n",
    "print(\"Rectangle 1 - Length: {}, Width: {}\".format(rectangle1.length, rectangle1.width))\n",
    "print(\"Square - Length: {}, Width: {}\".format(square.length, square.width))\n"
   ]
  },
  {
   "cell_type": "markdown",
   "id": "0260721f",
   "metadata": {},
   "source": [
    "11. What is method overloading, and how is it related to constructors in Python?\n"
   ]
  },
  {
   "cell_type": "markdown",
   "id": "f0a20eca",
   "metadata": {},
   "source": [
    "Method overloading is a concept where a class can have multiple methods with the same name but different parameter lists. In Python, it's not directly supported for methods, including constructors, but you can achieve similar functionality using default argument values and class methods to create alternative constructors."
   ]
  },
  {
   "cell_type": "markdown",
   "id": "0d19a6fe",
   "metadata": {},
   "source": [
    "12. Explain the use of the `super()` function in Python constructors. Provide an example.\n"
   ]
  },
  {
   "cell_type": "markdown",
   "id": "2905d695",
   "metadata": {},
   "source": [
    "The super() function in Python is used to call a method from a parent or superclass within a subclass. When used in constructors, it allows you to initialize the attributes or perform actions from the parent class before adding the specific functionality of the subclass"
   ]
  },
  {
   "cell_type": "code",
   "execution_count": 19,
   "id": "44f95069",
   "metadata": {},
   "outputs": [
    {
     "name": "stdout",
     "output_type": "stream",
     "text": [
      "Hi, I'm python, and I'm 21 years old.\n",
      "python is studying Math.\n"
     ]
    }
   ],
   "source": [
    "class Person:\n",
    "    def __init__(self, name, age):\n",
    "        self.name = name\n",
    "        self.age = age\n",
    "\n",
    "    def introduce(self):\n",
    "        print(f\"Hi, I'm {self.name}, and I'm {self.age} years old.\")\n",
    "\n",
    "class Student(Person):\n",
    "    def __init__(self, name, age, student_id):\n",
    "        super().__init__(name, age) \n",
    "        self.student_id = student_id\n",
    "\n",
    "    def study(self, subject):\n",
    "        print(f\"{self.name} is studying {subject}.\")\n",
    "\n",
    "student = Student(\"python\", 21, \"S12345\")\n",
    "\n",
    "student.introduce()  \n",
    "student.study(\"Math\") \n"
   ]
  },
  {
   "cell_type": "markdown",
   "id": "399abf79",
   "metadata": {},
   "source": [
    "13. Create a class called `Book` with a constructor that initializes the `title`, `author`, and\n",
    "`published_year` attributes. Provide a method to display book details.\n"
   ]
  },
  {
   "cell_type": "code",
   "execution_count": 16,
   "id": "1d0fa130",
   "metadata": {},
   "outputs": [
    {
     "data": {
      "text/plain": [
       "'Book title: pyton Author name: teacher and published_year: 2020'"
      ]
     },
     "execution_count": 16,
     "metadata": {},
     "output_type": "execute_result"
    }
   ],
   "source": [
    "class book:\n",
    "    def __init__(self, title, author,published_year):\n",
    "        self.title = title\n",
    "        self.author = author\n",
    "        self.published_year = published_year\n",
    "        \n",
    "    def display_details(self):\n",
    "        return f\"Book title: {self.title} Author name: {self.author} and published_year: {self.published_year}\"\n",
    "        \n",
    "    \n",
    "  \n",
    "obj = book('pyton' , 'teacher' , 2020)\n",
    "obj.display_details()\n"
   ]
  },
  {
   "cell_type": "markdown",
   "id": "acc4cd7a",
   "metadata": {},
   "source": [
    "14. Discuss the differences between constructors and regular methods in Python classes.\n"
   ]
  },
  {
   "cell_type": "markdown",
   "id": "c785af25",
   "metadata": {},
   "source": [
    "Constructors are special methods in Python classes used for initializing object attributes during object creation, while regular methods perform specific actions or provide functionality after object instantiation.\n",
    "\n",
    "Constructors have reserved names like __init__, are automatically called when an object is created, and can take arguments to initialize object state. Regular methods can have any name, require explicit invocation, and may or may not take arguments.\n",
    "\n",
    "Constructors initialize object state, such as instance variables, while regular methods operate on that state, allowing objects to perform various actions and operations."
   ]
  },
  {
   "cell_type": "markdown",
   "id": "16e6151d",
   "metadata": {},
   "source": [
    "15. Explain the role of the `self` parameter in instance variable initialization within a constructor.\n"
   ]
  },
  {
   "cell_type": "markdown",
   "id": "5d8fd2ae",
   "metadata": {},
   "source": [
    "The self parameter in a constructor refers to the instance of the object being created. It is used to bind instance variables to that specific object, allowing you to initialize and access object-specific attributes within the constructor."
   ]
  },
  {
   "cell_type": "markdown",
   "id": "0361bb8b",
   "metadata": {},
   "source": [
    "16. How do you prevent a class from having multiple instances by using constructors in Python?\n",
    "Provide an example.\n"
   ]
  },
  {
   "cell_type": "markdown",
   "id": "29bac1ad",
   "metadata": {},
   "source": [
    "To prevent a class from having multiple instances, you can implement a Singleton design pattern in Python by controlling object creation within the class. Here's an example:"
   ]
  },
  {
   "cell_type": "code",
   "execution_count": 20,
   "id": "60f62b7b",
   "metadata": {},
   "outputs": [
    {
     "name": "stdout",
     "output_type": "stream",
     "text": [
      "True\n"
     ]
    }
   ],
   "source": [
    "class Singleton:\n",
    "    _instance = None\n",
    "    \n",
    "    def __new__(cls):\n",
    "        if cls._instance is None:\n",
    "            cls._instance = super(Singleton, cls).__new__(cls)\n",
    "        return cls._instance\n",
    "\n",
    "singleton1 = Singleton()\n",
    "singleton2 = Singleton()\n",
    "print(singleton1 is singleton2)   \n"
   ]
  },
  {
   "cell_type": "markdown",
   "id": "4499248b",
   "metadata": {},
   "source": [
    "17. Create a Python class called `Student` with a constructor that takes a list of subjects as a\n",
    "parameter and initializes the `subjects` attribute"
   ]
  },
  {
   "cell_type": "code",
   "execution_count": 24,
   "id": "bbf65446",
   "metadata": {},
   "outputs": [
    {
     "data": {
      "text/plain": [
       "['python', 'sql', 'DSA']"
      ]
     },
     "execution_count": 24,
     "metadata": {},
     "output_type": "execute_result"
    }
   ],
   "source": [
    "class student:\n",
    "    def __init__(self , subjects=[]):\n",
    "        self.subjects = subjects\n",
    "        \n",
    "obj = student(['python','sql','DSA'])\n",
    "\n",
    "obj.subjects\n",
    "        "
   ]
  },
  {
   "cell_type": "markdown",
   "id": "ca70d6d2",
   "metadata": {},
   "source": [
    "18. What is the purpose of the `__del__` method in Python classes, and how does it relate to\n",
    "constructors?\n"
   ]
  },
  {
   "cell_type": "markdown",
   "id": "1e827ef1",
   "metadata": {},
   "source": [
    "The __del__ method in Python is used for cleaning up resources and performing finalization tasks when an object is about to be destroyed. It is the counterpart to the constructor (__init__) and is executed when the object is being deleted, relating to object lifecycle management."
   ]
  },
  {
   "cell_type": "markdown",
   "id": "8347d725",
   "metadata": {},
   "source": [
    "19. Explain the use of constructor chaining in Python. Provide a practical example.\n"
   ]
  },
  {
   "cell_type": "markdown",
   "id": "bc1ab097",
   "metadata": {},
   "source": [
    "Constructor chaining in Python allows one constructor to call another within the same class using super(). It enables the reuse of initialization logic and ensures consistent object creation.\n",
    "\n",
    "Example:"
   ]
  },
  {
   "cell_type": "code",
   "execution_count": 26,
   "id": "7f2306cc",
   "metadata": {},
   "outputs": [
    {
     "name": "stdout",
     "output_type": "stream",
     "text": [
      "Chander 25\n"
     ]
    }
   ],
   "source": [
    "class Parent:\n",
    "    def __init__(self, name):\n",
    "        self.name = name\n",
    "\n",
    "class Child(Parent):\n",
    "    def __init__(self, name, age):\n",
    "        super().__init__(name)\n",
    "        self.age = age\n",
    "\n",
    "child = Child(\"Chander\", 25)\n",
    "print(child.name, child.age)  \n"
   ]
  },
  {
   "cell_type": "markdown",
   "id": "d8b8860f",
   "metadata": {},
   "source": [
    "20. Create a Python class called `Car` with a default constructor that initializes the `make` and\n",
    "`model` attributes. Provide a method to display car information.\n"
   ]
  },
  {
   "cell_type": "code",
   "execution_count": 29,
   "id": "7aa7133e",
   "metadata": {},
   "outputs": [
    {
     "data": {
      "text/plain": [
       "'Car maker is Suzuki and the model is 2020'"
      ]
     },
     "execution_count": 29,
     "metadata": {},
     "output_type": "execute_result"
    }
   ],
   "source": [
    "class car:\n",
    "    def __init__(self, make , model):\n",
    "        self.make = make\n",
    "        self.model = model\n",
    "    def display_info(self):\n",
    "        return f\"Car maker is {self.make} and the model is {self.model}\"\n",
    "\n",
    "obj = car(\"Suzuki\", 2020)\n",
    "obj.display_info()"
   ]
  },
  {
   "cell_type": "markdown",
   "id": "d9761d4b",
   "metadata": {},
   "source": [
    "# Inheritance ➖\n"
   ]
  },
  {
   "cell_type": "markdown",
   "id": "030c1f79",
   "metadata": {},
   "source": [
    "1. What is inheritance in Python? Explain its significance in object-oriented programming.\n"
   ]
  },
  {
   "cell_type": "markdown",
   "id": "99ae1b9a",
   "metadata": {},
   "source": [
    "In Python, inheritance allows a class to inherit attributes and methods from another class, facilitating code reuse and creating a hierarchical structure among classes in object-oriented programming.\n",
    "It enables the creation of new classes with shared characteristics and behaviors, promoting modularity, extensibility, and easier maintenance of code."
   ]
  },
  {
   "cell_type": "markdown",
   "id": "027d832d",
   "metadata": {},
   "source": [
    "2. Differentiate between single inheritance and multiple inheritance in Python. Provide examples\n",
    "for each."
   ]
  },
  {
   "cell_type": "markdown",
   "id": "50dce479",
   "metadata": {},
   "source": [
    "Single inheritance involves a class inheriting from only one base class, maintaining a linear hierarchy. Example:\n",
    "class Animal:\n",
    "    def make_sound(self):\n",
    "        pass\n",
    "\n",
    "class Dog(Animal):\n",
    "    def make_sound(self):\n",
    "        return \"Woof!\"\n",
    " \n",
    "Multiple inheritance allows a class to inherit from multiple base classes, creating a complex hierarchy. Example:\n",
    "\n",
    "class Flyable:\n",
    "    def fly(self):\n",
    "        pass\n",
    "\n",
    "class Bird:\n",
    "    def chirp(self):\n",
    "        pass\n",
    "\n",
    "class Sparrow(Flyable, Bird):\n",
    "    def fly(self):\n",
    "        return \"Sparrow flying!\"\n",
    "\n"
   ]
  },
  {
   "cell_type": "markdown",
   "id": "6c0b7f82",
   "metadata": {},
   "source": [
    "3. Create a Python class called `Vehicle` with attributes `color` and `speed`. Then, create a child\n",
    "class called `Car` that inherits from `Vehicle` and adds a `brand` attribute. Provide an example\n",
    "of creating a `Car` object."
   ]
  },
  {
   "cell_type": "code",
   "execution_count": 1,
   "id": "4f734fc3",
   "metadata": {},
   "outputs": [
    {
     "data": {
      "text/plain": [
       "'Car Brand is Black, color is 180kmph, speed is Hyundai'"
      ]
     },
     "execution_count": 1,
     "metadata": {},
     "output_type": "execute_result"
    }
   ],
   "source": [
    "class vehicle:\n",
    "    def __init__(self, color , speed):\n",
    "        self.color  = color\n",
    "        self.speed = speed\n",
    "        \n",
    "class car(vehicle):\n",
    "    def __init__(self, brand,color,speed):\n",
    "        super().__init__(color,speed)\n",
    "        self.brand = brand\n",
    "        \n",
    "    def display_details(self):\n",
    "        return f\"Car Brand is {self.brand}, color is {self.color}, speed is {self.speed}\"\n",
    "    \n",
    "    \n",
    "verna = car('Black','180kmph','Hyundai')\n",
    "\n",
    "verna.display_details()"
   ]
  },
  {
   "cell_type": "markdown",
   "id": "4fcf408e",
   "metadata": {},
   "source": [
    "4. Explain the concept of method overriding in inheritance. Provide a practical example.\n"
   ]
  },
  {
   "cell_type": "markdown",
   "id": "e83603a7",
   "metadata": {},
   "source": [
    "Method overriding in inheritance is when a subclass provides its own implementation of a method that is already defined in its parent class. The overridden method in the subclass has the same name and parameters as the method in the parent class, allowing the subclass to customize the behavior."
   ]
  },
  {
   "cell_type": "code",
   "execution_count": 40,
   "id": "e2ed42b6",
   "metadata": {},
   "outputs": [
    {
     "data": {
      "text/plain": [
       "'Dog barks'"
      ]
     },
     "execution_count": 40,
     "metadata": {},
     "output_type": "execute_result"
    }
   ],
   "source": [
    "class Animal:\n",
    "    def speak(self):\n",
    "        return (\"Animal speaks\")\n",
    "\n",
    "class Dog(Animal):\n",
    "    def speak(self):\n",
    "        return (\"Dog barks\")\n",
    "\n",
    "dog = Dog()\n",
    "dog.speak() \n"
   ]
  },
  {
   "cell_type": "markdown",
   "id": "5b8efd79",
   "metadata": {},
   "source": [
    "5. How can you access the methods and attributes of a parent class from a child class in\n",
    "Python? Give an example."
   ]
  },
  {
   "cell_type": "markdown",
   "id": "c11cb62a",
   "metadata": {},
   "source": [
    "We can access the methods and attributes of a parent class from a child class in Python by using the super() function. Here's an example:"
   ]
  },
  {
   "cell_type": "code",
   "execution_count": 44,
   "id": "55db6daa",
   "metadata": {},
   "outputs": [
    {
     "name": "stdout",
     "output_type": "stream",
     "text": [
      "I'm from the parent class\n"
     ]
    }
   ],
   "source": [
    "class Parent:\n",
    "    def __init__(self):\n",
    "        self.parent_attr = \"I'm from the parent class\"\n",
    "\n",
    "class Child(Parent):\n",
    "    def __init__(self):\n",
    "        super().__init__()\n",
    "        print(self.parent_attr)\n",
    "\n",
    "child = Child()  \n"
   ]
  },
  {
   "cell_type": "markdown",
   "id": "ab5d16ce",
   "metadata": {},
   "source": [
    "6. Discuss the use of the `super()` function in Python inheritance. When and why is it used?\n",
    "Provide an example"
   ]
  },
  {
   "cell_type": "markdown",
   "id": "198b0fdc",
   "metadata": {},
   "source": [
    "The super() function in Python is used to call a method or access an attribute from the parent class in the context of inheritance. It is typically used in the child class constructor to initialize the parent class and can be helpful to avoid code duplication and ensure proper initialization"
   ]
  },
  {
   "cell_type": "code",
   "execution_count": 47,
   "id": "e42e8ad6",
   "metadata": {},
   "outputs": [
    {
     "name": "stdout",
     "output_type": "stream",
     "text": [
      "I'm from the parent class\n"
     ]
    }
   ],
   "source": [
    "class Parent:\n",
    "    def __init__(self):\n",
    "        self.parent_attr = \"I'm from the parent class\"\n",
    "\n",
    "class Child(Parent):\n",
    "    def __init__(self):\n",
    "        super().__init__()\n",
    "        print(self.parent_attr) \n",
    "        \n",
    "child = Child()        \n"
   ]
  },
  {
   "cell_type": "markdown",
   "id": "25a6b116",
   "metadata": {},
   "source": [
    "7. Create a Python class called `Animal` with a method `speak()`. Then, create child classes\n",
    "`Dog` and `Cat` that inherit from `Animal` and override the `speak()` method. Provide an\n",
    "example of using these classes."
   ]
  },
  {
   "cell_type": "code",
   "execution_count": 51,
   "id": "84264b5b",
   "metadata": {},
   "outputs": [
    {
     "data": {
      "text/plain": [
       "'this is speak method in cat class'"
      ]
     },
     "execution_count": 51,
     "metadata": {},
     "output_type": "execute_result"
    }
   ],
   "source": [
    "class animal:\n",
    "    def speak(self):\n",
    "        return \"this is speak method in animal class\"\n",
    "    \n",
    "class dog(animal):\n",
    "    def speak(self):\n",
    "        return 'this is speak methond in dog class'\n",
    "class cat(animal):\n",
    "    def speak(self):\n",
    "        return 'this is speak method in cat class'\n",
    "\n",
    "obj = cat()\n",
    "obj.speak()\n",
    "    "
   ]
  },
  {
   "cell_type": "markdown",
   "id": "0c7c9a28",
   "metadata": {},
   "source": [
    "8. Explain the role of the `isinstance()` function in Python and how it relates to inheritance.\n"
   ]
  },
  {
   "cell_type": "markdown",
   "id": "0ce8402e",
   "metadata": {},
   "source": [
    "The isinstance() function is used in Python to check if an object is an instance of a particular class or a subclass. It relates to inheritance by allowing you to verify the class hierarchy and determine if an object is derived from a specific class or its subclasses, facilitating type checking and polymorphism."
   ]
  },
  {
   "cell_type": "markdown",
   "id": "5e746933",
   "metadata": {},
   "source": [
    "9. What is the purpose of the `issubclass()` function in Python? Provide an example.\n"
   ]
  },
  {
   "cell_type": "markdown",
   "id": "fe843bbb",
   "metadata": {},
   "source": [
    "The issubclass() function in Python is used to check if a class is a subclass of another class. It helps verify class hierarchies and relationships."
   ]
  },
  {
   "cell_type": "code",
   "execution_count": 52,
   "id": "54be47ed",
   "metadata": {},
   "outputs": [
    {
     "name": "stdout",
     "output_type": "stream",
     "text": [
      "True\n"
     ]
    }
   ],
   "source": [
    "class Parent:\n",
    "    pass\n",
    "\n",
    "class Child(Parent):\n",
    "    pass\n",
    "\n",
    "print(issubclass(Child, Parent))  \n"
   ]
  },
  {
   "cell_type": "markdown",
   "id": "1a21c077",
   "metadata": {},
   "source": [
    "10. Discuss the concept of constructor inheritance in Python. How are constructors inherited in\n",
    "child classes?\n"
   ]
  },
  {
   "cell_type": "markdown",
   "id": "eafd6ad4",
   "metadata": {},
   "source": [
    "In Python, constructors are inherited in child classes by default. When a child class is created, and its constructor (__init__ method) is not defined, Python looks for the constructor in the parent class. If found, the child class inherits and implicitly calls the parent class constructor, ensuring that the parent class's attributes and initializations are also applied to the child class."
   ]
  },
  {
   "cell_type": "code",
   "execution_count": 54,
   "id": "4c57e73e",
   "metadata": {},
   "outputs": [
    {
     "name": "stdout",
     "output_type": "stream",
     "text": [
      "I'm from the parent class\n"
     ]
    }
   ],
   "source": [
    "class Parent:\n",
    "    def __init__(self):\n",
    "        self.parent_attr = \"I'm from the parent class\"\n",
    "\n",
    "class Child(Parent):\n",
    "    pass\n",
    "\n",
    "child = Child()\n",
    "print(child.parent_attr)  \n"
   ]
  },
  {
   "cell_type": "markdown",
   "id": "f72a10d0",
   "metadata": {},
   "source": [
    "11. Create a Python class called `Shape` with a method `area()` that calculates the area of a\n",
    "shape. Then, create child classes `Circle` and `Rectangle` that inherit from `Shape` and\n",
    "implement the `area()` method accordingly. Provide an example."
   ]
  },
  {
   "cell_type": "code",
   "execution_count": 9,
   "id": "a4c728dc",
   "metadata": {},
   "outputs": [],
   "source": [
    "class shape:\n",
    "    def area(self, side): # area of shape is taken as area of square\n",
    "        return f\"area of shape would be {side **2}\"\n",
    "    \n",
    "class circle(shape):\n",
    "    def area(self , r):\n",
    "        return f'area of circle would be {(22/7) * (r**2)}'\n",
    "    \n",
    "class rectangle(shape ):\n",
    "    def area(self,length, width):\n",
    "        return f'Area of rectangle would be {length * width}'"
   ]
  },
  {
   "cell_type": "code",
   "execution_count": 14,
   "id": "6568ead2",
   "metadata": {},
   "outputs": [
    {
     "name": "stdout",
     "output_type": "stream",
     "text": [
      "area of shape would be 4\n",
      "area of circle would be 452.57142857142856\n",
      "Area of rectangle would be 30\n"
     ]
    }
   ],
   "source": [
    "obj = shape()\n",
    "\n",
    "obj2 = circle()\n",
    "\n",
    "obj3 = rectangle()\n",
    "\n",
    "print(obj.area(2))\n",
    "print(obj2.area(12))\n",
    "print(obj3.area(5,6))\n"
   ]
  },
  {
   "cell_type": "markdown",
   "id": "b0d96c54",
   "metadata": {},
   "source": [
    "12. Explain the use of abstract base classes (ABCs) in Python and how they relate to\n",
    "inheritance. Provide an example using the `abc` module.\n"
   ]
  },
  {
   "cell_type": "markdown",
   "id": "a4742bc1",
   "metadata": {},
   "source": [
    "Abstract Base Classes (ABCs) in Python define a common interface with abstract methods that concrete subclasses must implement, ensuring a consistent structure in class hierarchies. The abc module provides tools for creating and enforcing these interfaces."
   ]
  },
  {
   "cell_type": "code",
   "execution_count": 16,
   "id": "af2b32eb",
   "metadata": {},
   "outputs": [
    {
     "name": "stdout",
     "output_type": "stream",
     "text": [
      "Implemented method\n"
     ]
    }
   ],
   "source": [
    "from abc import ABC, abstractmethod\n",
    "\n",
    "class MyAbstractClass(ABC):\n",
    "    @abstractmethod\n",
    "    def my_abstract_method(self):\n",
    "        pass\n",
    "\n",
    "class MyConcreteClass(MyAbstractClass):\n",
    "    def my_abstract_method(self):\n",
    "        return \"Implemented method\"\n",
    "\n",
    "obj = MyConcreteClass()\n",
    "print(obj.my_abstract_method())  \n"
   ]
  },
  {
   "cell_type": "markdown",
   "id": "0a4c2f95",
   "metadata": {},
   "source": [
    "13. How can you prevent a child class from modifying certain attributes or methods inherited\n",
    "from a parent class in Python?"
   ]
  },
  {
   "cell_type": "markdown",
   "id": "a558c184",
   "metadata": {},
   "source": [
    "Use a single underscore prefix (e.g., _attribute) for attributes/methods as a convention to discourage modification.\n",
    "\n",
    "Employ name mangling with double underscores (e.g., __attribute) to make it harder for child classes to accidentally override, but it's still not entirely restrictive.\n",
    "\n",
    "For more strict control, consider using composition or aggregation rather than inheritance, encapsulating the functionality you want to protect."
   ]
  },
  {
   "cell_type": "markdown",
   "id": "d1ed4321",
   "metadata": {},
   "source": [
    "14. Create a Python class called `Employee` with attributes `name` and `salary`. Then, create a\n",
    "child class `Manager` that inherits from `Employee` and adds an attribute `department`. Provide\n",
    "an example.\n"
   ]
  },
  {
   "cell_type": "code",
   "execution_count": 25,
   "id": "fad1f6cb",
   "metadata": {},
   "outputs": [
    {
     "data": {
      "text/plain": [
       "'Employee name is Ram his salary is 15000 and he belongs to Sales'"
      ]
     },
     "execution_count": 25,
     "metadata": {},
     "output_type": "execute_result"
    }
   ],
   "source": [
    "class employee:\n",
    "    def __init__(self , name , salary):\n",
    "        self.name = name\n",
    "        self.salary = salary\n",
    "        \n",
    "class manager(employee):\n",
    "    def __init__(self,name , salary , department):\n",
    "        super().__init__(name, salary)\n",
    "        self.department = department\n",
    "    def show_details(self):\n",
    "        return f'Employee name is {self.name} his salary is {self.salary} and he belongs to {self.department}'\n",
    "    \n",
    "obj = manager('Ram', 15000,'Sales')\n",
    "obj.show_details()"
   ]
  },
  {
   "cell_type": "markdown",
   "id": "cb40239d",
   "metadata": {},
   "source": [
    "15. Discuss the concept of method overloading in Python inheritance. How does it differ from\n",
    "method overriding?"
   ]
  },
  {
   "cell_type": "markdown",
   "id": "0aeaf625",
   "metadata": {},
   "source": [
    "Method overloading in Python inheritance refers to defining multiple methods in a class with the same name but different parameters, allowing you to use the same method name for various behaviors based on the number or type of arguments. Python does not support method overloading by default; it's typically achieved by using default argument values or variable-length argument lists.\n",
    "\n",
    "Method overriding, on the other hand, involves a child class providing a specific implementation for a method already defined in the parent class. The method in the child class has the same name and signature as the one in the parent class but behaves differently."
   ]
  },
  {
   "cell_type": "code",
   "execution_count": 28,
   "id": "cc76c527",
   "metadata": {},
   "outputs": [
    {
     "data": {
      "text/plain": [
       "9"
      ]
     },
     "execution_count": 28,
     "metadata": {},
     "output_type": "execute_result"
    }
   ],
   "source": [
    "# Example of method overloading\n",
    "class MathOperations:\n",
    "    def add(self, a, b):\n",
    "        return a + b\n",
    "    \n",
    "    def add(self, a, b, c):\n",
    "        return a + b + c\n",
    "\n",
    "math = MathOperations()\n",
    "math.add(2, 3, 4) \n",
    "\n"
   ]
  },
  {
   "cell_type": "code",
   "execution_count": 29,
   "id": "385ab868",
   "metadata": {},
   "outputs": [
    {
     "name": "stdout",
     "output_type": "stream",
     "text": [
      "Hello from the child class\n"
     ]
    }
   ],
   "source": [
    "class Parent:\n",
    "    def greet(self):\n",
    "        return \"Hello from the parent class\"\n",
    "\n",
    "class Child(Parent):\n",
    "    def greet(self):\n",
    "        return \"Hello from the child class\"\n",
    "\n",
    "child = Child()\n",
    "print(child.greet()) \n"
   ]
  },
  {
   "cell_type": "markdown",
   "id": "41443891",
   "metadata": {},
   "source": [
    "16. Explain the purpose of the `__init__()` method in Python inheritance and how it is utilized in\n",
    "child classes"
   ]
  },
  {
   "cell_type": "markdown",
   "id": "6f8a661d",
   "metadata": {},
   "source": [
    "The __init__() method in Python inheritance is a constructor that initializes object attributes when an instance of a class is created. It is used in child classes to customize their own initialization by calling the parent class's __init__() method using super().__init__(...), allowing them to inherit and extend the parent class's attributes and behavior."
   ]
  },
  {
   "cell_type": "markdown",
   "id": "b63192e5",
   "metadata": {},
   "source": [
    "17. Create a Python class called `Bird` with a method `fly()`. Then, create child classes `Eagle`\n",
    "and `Sparrow` that inherit from `Bird` and implement the `fly()` method differently. Provide an\n",
    "example of using these classes.\n"
   ]
  },
  {
   "cell_type": "code",
   "execution_count": 31,
   "id": "b61d8aae",
   "metadata": {},
   "outputs": [
    {
     "name": "stdout",
     "output_type": "stream",
     "text": [
      "this is bird class\n",
      "this is eagle class\n",
      "this is sparrow class\n"
     ]
    }
   ],
   "source": [
    "class bird:\n",
    "    def fly(self):\n",
    "        return 'this is bird class'\n",
    "\n",
    "class eagle(bird):\n",
    "    def fly(self):\n",
    "        return 'this is eagle class'\n",
    "\n",
    "class sparrow(bird):\n",
    "    def fly(self):\n",
    "        return 'this is sparrow class'\n",
    "    \n",
    "bird = bird()\n",
    "eagle = eagle()\n",
    "sparrow = sparrow()\n",
    "\n",
    "print(bird.fly())      \n",
    "print(eagle.fly())     \n",
    "print(sparrow.fly())"
   ]
  },
  {
   "cell_type": "markdown",
   "id": "01ef17f4",
   "metadata": {},
   "source": [
    "18. What is the \"diamond problem\" in multiple inheritance, and how does Python address it?\n"
   ]
  },
  {
   "cell_type": "markdown",
   "id": "b1d81547",
   "metadata": {},
   "source": [
    "The \"diamond problem\" is an issue in multiple inheritance when a class inherits from two classes with a common ancestor, causing ambiguity in method or attribute resolution. Python addresses it by using the C3 Linearization algorithm, which calculates a consistent order (Method Resolution Order, MRO) to determine which inherited class to use, preventing conflicts and ensuring predictable behavior."
   ]
  },
  {
   "cell_type": "markdown",
   "id": "888c83f2",
   "metadata": {},
   "source": [
    "19. Discuss the concept of \"is-a\" and \"has-a\" relationships in inheritance, and provide examples\n",
    "of each.\n"
   ]
  },
  {
   "cell_type": "markdown",
   "id": "5db89feb",
   "metadata": {},
   "source": [
    "\"Inheritance\" represents an \"is-a\" relationship, where a subclass is a specialized version of a superclass (e.g., a \"Cat\" is-a \"Mammal\"). \"Composition\" signifies a \"has-a\" relationship, where a class contains an instance of another class as an attribute (e.g., a \"Car\" has-a \"Engine\").\n",
    "\n",
    "Examples:\n",
    "\n",
    "\"is-a\" relationship: class Cat inherits from class Mammal.\n",
    "\"has-a\" relationship: class Car contains an attribute for class Engine."
   ]
  },
  {
   "cell_type": "markdown",
   "id": "591a1dd7",
   "metadata": {},
   "source": [
    "20. Create a Python class hierarchy for a university system. Start with a base class `Person`\n",
    "and create child classes `Student` and `Professor`, each with their own attributes and methods.\n",
    "Provide an example of using these classes in a university context."
   ]
  },
  {
   "cell_type": "code",
   "execution_count": 32,
   "id": "0853b3e0",
   "metadata": {},
   "outputs": [
    {
     "name": "stdout",
     "output_type": "stream",
     "text": [
      "Student ID: S12345, Name: Sudhanshu, Age: 20\n",
      "Employee ID: P7890, Name: Krish naik, Age: 45\n"
     ]
    }
   ],
   "source": [
    "class Person:\n",
    "    def __init__(self, name, age):\n",
    "        self.name = name\n",
    "        self.age = age\n",
    "\n",
    "    def get_details(self):\n",
    "        return f\"Name: {self.name}, Age: {self.age}\"\n",
    "\n",
    "class Student(Person):\n",
    "    def __init__(self, name, age, student_id):\n",
    "        super().__init__(name, age)\n",
    "        self.student_id = student_id\n",
    "\n",
    "    def get_details(self):\n",
    "        return f\"Student ID: {self.student_id}, {super().get_details()}\"\n",
    "\n",
    "class Professor(Person):\n",
    "    def __init__(self, name, age, employee_id):\n",
    "        super().__init__(name, age)\n",
    "        self.employee_id = employee_id\n",
    "\n",
    "    def get_details(self):\n",
    "        return f\"Employee ID: {self.employee_id}, {super().get_details()}\"\n",
    "\n",
    "student = Student(\"Sudhanshu\", 20, \"S12345\")\n",
    "professor = Professor(\"Krish naik\", 45, \"P7890\")\n",
    "\n",
    "print(student.get_details())   \n",
    "print(professor.get_details())  \n"
   ]
  },
  {
   "cell_type": "markdown",
   "id": "e32ab260",
   "metadata": {},
   "source": [
    "# Polymorphism"
   ]
  },
  {
   "cell_type": "markdown",
   "id": "4fb4fd72",
   "metadata": {},
   "source": [
    "1. What is polymorphism in Python? Explain how it is related to object-oriented\n",
    "programming.\n"
   ]
  },
  {
   "cell_type": "markdown",
   "id": "6d4195f0",
   "metadata": {},
   "source": [
    "Polymorphism in Python refers to the ability of different objects to respond to the same method or function call in a way that is appropriate for their individual types. It is a fundamental concept in object-oriented programming that enables flexibility and code reusability by allowing objects of different classes to be treated uniformly through a common interface."
   ]
  },
  {
   "cell_type": "markdown",
   "id": "03eb3a8c",
   "metadata": {},
   "source": [
    "2. Describe the difference between compile-time polymorphism and runtime\n",
    "polymorphism in Python.\n"
   ]
  },
  {
   "cell_type": "markdown",
   "id": "b5aca508",
   "metadata": {},
   "source": [
    "Compile-time polymorphism, also known as method overloading, occurs when multiple methods with the same name but different parameter lists are defined in a class, and the appropriate method is determined at compile time based on the method call's arguments. Runtime polymorphism, also known as method overriding, happens when a subclass provides a specific implementation for a method that is already defined in its superclass, and the method to be executed is determined at runtime based on the actual object's type."
   ]
  },
  {
   "cell_type": "markdown",
   "id": "50ef3c7d",
   "metadata": {},
   "source": [
    "3. Create a Python class hierarchy for shapes (e.g., circle, square, triangle) and\n",
    "demonstrate polymorphism through a common method, such as `calculate_area()`.\n"
   ]
  },
  {
   "cell_type": "code",
   "execution_count": 3,
   "id": "567d7f13",
   "metadata": {},
   "outputs": [
    {
     "name": "stdout",
     "output_type": "stream",
     "text": [
      "Area: 78.53981633975\n",
      "Area: 16\n",
      "Area: 9.0\n"
     ]
    }
   ],
   "source": [
    "class Shape:\n",
    "    def calculate_area(self):\n",
    "        pass\n",
    "\n",
    "class Circle(Shape):\n",
    "    def __init__(self, radius):\n",
    "        self.radius = radius\n",
    "\n",
    "    def calculate_area(self):\n",
    "        return 3.14159265359 * (self.radius**2)\n",
    "\n",
    "class Square(Shape):\n",
    "    def __init__(self, side_length):\n",
    "        self.side_length = side_length\n",
    "\n",
    "    def calculate_area(self):\n",
    "        return self.side_length**2\n",
    "\n",
    "class Triangle(Shape):\n",
    "    def __init__(self, base, height):\n",
    "        self.base = base\n",
    "        self.height = height\n",
    "\n",
    "    def calculate_area(self):\n",
    "        return 0.5 * self.base * self.height\n",
    "\n",
    "circle = Circle(5)\n",
    "square = Square(4)\n",
    "triangle = Triangle(3, 6)\n",
    "\n",
    "shapes = [circle, square, triangle]\n",
    "\n",
    "for shape in shapes:\n",
    "    print(f\"Area: {shape.calculate_area()}\")\n"
   ]
  },
  {
   "cell_type": "markdown",
   "id": "be844ea6",
   "metadata": {},
   "source": [
    "4. Explain the concept of method overriding in polymorphism. Provide an example.\n"
   ]
  },
  {
   "cell_type": "markdown",
   "id": "83456be1",
   "metadata": {},
   "source": [
    "Method overriding in polymorphism is when a subclass provides a specific implementation for a method that is already defined in its superclass. The overridden method in the subclass is called instead of the superclass method when the method is invoked on an object of the subclass."
   ]
  },
  {
   "cell_type": "code",
   "execution_count": 4,
   "id": "fc0c38fc",
   "metadata": {},
   "outputs": [
    {
     "name": "stdout",
     "output_type": "stream",
     "text": [
      "Animal speaks\n",
      "Dog barks\n"
     ]
    }
   ],
   "source": [
    "class Animal:\n",
    "    def speak(self):\n",
    "        print(\"Animal speaks\")\n",
    "\n",
    "class Dog(Animal):\n",
    "    def speak(self):\n",
    "        print(\"Dog barks\")\n",
    "\n",
    "animal = Animal()\n",
    "dog = Dog()\n",
    "\n",
    "animal.speak()  \n",
    "dog.speak()  \n"
   ]
  },
  {
   "cell_type": "markdown",
   "id": "fb4a53d9",
   "metadata": {},
   "source": [
    "5. How is polymorphism different from method overloading in Python? Provide\n",
    "examples for both.\n"
   ]
  },
  {
   "cell_type": "markdown",
   "id": "617c4c09",
   "metadata": {},
   "source": [
    "Polymorphism allows objects of different classes to be treated uniformly through a common interface, enabling dynamic method dispatch. Method overloading, on the other hand, involves defining multiple methods with the same name in a class with different parameter lists."
   ]
  },
  {
   "cell_type": "code",
   "execution_count": 5,
   "id": "88843437",
   "metadata": {},
   "outputs": [],
   "source": [
    "class Shape:\n",
    "    def draw(self):\n",
    "        pass\n",
    "\n",
    "class Circle(Shape):\n",
    "    def draw(self):\n",
    "        print(\"Drawing a circle\")\n",
    "\n",
    "class Square(Shape):\n",
    "    def draw(self):\n",
    "        print(\"Drawing a square\")\n"
   ]
  },
  {
   "cell_type": "code",
   "execution_count": 6,
   "id": "c91e9b9f",
   "metadata": {},
   "outputs": [],
   "source": [
    "class Calculator:\n",
    "    def add(self, a, b):\n",
    "        return a + b\n",
    "\n",
    "    def add(self, a, b, c):\n",
    "        return a + b + c\n"
   ]
  },
  {
   "cell_type": "markdown",
   "id": "563b0728",
   "metadata": {},
   "source": [
    "6. Create a Python class called `Animal` with a method `speak()`. Then, create child\n",
    "classes like `Dog`, `Cat`, and `Bird`, each with their own `speak()` method. Demonstrate\n",
    "polymorphism by calling the `speak()` method on objects of different subclasses.\n"
   ]
  },
  {
   "cell_type": "code",
   "execution_count": 7,
   "id": "dccab363",
   "metadata": {},
   "outputs": [
    {
     "name": "stdout",
     "output_type": "stream",
     "text": [
      "Dog barks\n",
      "Cat meows\n",
      "Bird chirps\n"
     ]
    }
   ],
   "source": [
    "class Animal:\n",
    "    def speak(self):\n",
    "        pass\n",
    "\n",
    "class Dog(Animal):\n",
    "    def speak(self):\n",
    "        return \"Dog barks\"\n",
    "\n",
    "class Cat(Animal):\n",
    "    def speak(self):\n",
    "        return \"Cat meows\"\n",
    "\n",
    "class Bird(Animal):\n",
    "    def speak(self):\n",
    "        return \"Bird chirps\"\n",
    "\n",
    "dog = Dog()\n",
    "cat = Cat()\n",
    "bird = Bird()\n",
    "\n",
    "animals = [dog, cat, bird]\n",
    "\n",
    "for animal in animals:\n",
    "    print(animal.speak())\n"
   ]
  },
  {
   "cell_type": "markdown",
   "id": "4739daac",
   "metadata": {},
   "source": [
    "7. Discuss the use of abstract methods and classes in achieving polymorphism in\n",
    "Python. Provide an example using the `abc` module.\n"
   ]
  },
  {
   "cell_type": "markdown",
   "id": "d3dd9e6e",
   "metadata": {},
   "source": [
    "Abstract methods and classes in Python, implemented using the abc module, enforce method signatures that must be implemented in subclasses, ensuring polymorphism. For example:"
   ]
  },
  {
   "cell_type": "code",
   "execution_count": 9,
   "id": "dc7e894e",
   "metadata": {},
   "outputs": [],
   "source": [
    "from abc import ABC, abstractmethod\n",
    "\n",
    "class Shape(ABC):\n",
    "    @abstractmethod\n",
    "    def calculate_area(self):\n",
    "        pass\n",
    "\n",
    "class Circle(Shape):\n",
    "    def __init__(self, radius):\n",
    "        self.radius = radius\n",
    "    \n",
    "    def calculate_area(self):\n",
    "        return 3.14 * self.radius ** 2\n"
   ]
  },
  {
   "cell_type": "markdown",
   "id": "833e78e0",
   "metadata": {},
   "source": [
    "8. Create a Python class hierarchy for a vehicle system (e.g., car, bicycle, boat) and\n",
    "implement a polymorphic `start()` method that prints a message specific to each\n",
    "vehicle type.\n"
   ]
  },
  {
   "cell_type": "code",
   "execution_count": 11,
   "id": "751b7a00",
   "metadata": {},
   "outputs": [
    {
     "name": "stdout",
     "output_type": "stream",
     "text": [
      "Car engine started.\n",
      "Pedaling the bicycle to start.\n",
      "Starting the boat's engine.\n"
     ]
    }
   ],
   "source": [
    "class Vehicle:\n",
    "    def start(self):\n",
    "        pass\n",
    "\n",
    "class Car(Vehicle):\n",
    "    def start(self):\n",
    "        return \"Car engine started.\"\n",
    "\n",
    "class Bicycle(Vehicle):\n",
    "    def start(self):\n",
    "        return \"Pedaling the bicycle to start.\"\n",
    "\n",
    "class Boat(Vehicle):\n",
    "    def start(self):\n",
    "        return \"Starting the boat's engine.\"\n",
    "\n",
    "car = Car()\n",
    "bicycle = Bicycle()\n",
    "boat = Boat()\n",
    "\n",
    "vehicles = [car, bicycle, boat]\n",
    "\n",
    "for vehicle in vehicles:\n",
    "    print(vehicle.start())\n"
   ]
  },
  {
   "cell_type": "markdown",
   "id": "63895461",
   "metadata": {},
   "source": [
    "9. Explain the significance of the `isinstance()` and `issubclass()` functions in Python\n",
    "polymorphism.\n"
   ]
  },
  {
   "cell_type": "markdown",
   "id": "dcf6f5f2",
   "metadata": {},
   "source": [
    "The isinstance() function is used to check if an object is an instance of a particular class, allowing for dynamic type checking in polymorphism. The issubclass() function determines if a class is a subclass of another, helping to establish class hierarchies and relationships, which are crucial for achieving polymorphism."
   ]
  },
  {
   "cell_type": "markdown",
   "id": "62fadaac",
   "metadata": {},
   "source": [
    "10. What is the role of the `@abstractmethod` decorator in achieving polymorphism in\n",
    "Python? Provide an example.\n"
   ]
  },
  {
   "cell_type": "markdown",
   "id": "d6199e67",
   "metadata": {},
   "source": [
    "The @abstractmethod decorator, when used in conjunction with the abc module, enforces that a method in an abstract base class must be implemented in its subclasses, ensuring polymorphism."
   ]
  },
  {
   "cell_type": "code",
   "execution_count": 12,
   "id": "86481681",
   "metadata": {},
   "outputs": [],
   "source": [
    "from abc import ABC, abstractmethod\n",
    "\n",
    "class Shape(ABC):\n",
    "    @abstractmethod\n",
    "    def calculate_area(self):\n",
    "        pass\n"
   ]
  },
  {
   "cell_type": "markdown",
   "id": "f3bda489",
   "metadata": {},
   "source": [
    "11. Create a Python class called `Shape` with a polymorphic method `area()` that\n",
    "calculates the area of different shapes (e.g., circle, rectangle, triangle).\n"
   ]
  },
  {
   "cell_type": "code",
   "execution_count": 13,
   "id": "23b46d15",
   "metadata": {},
   "outputs": [
    {
     "name": "stdout",
     "output_type": "stream",
     "text": [
      "Area: 78.53981633975\n",
      "Area: 24\n",
      "Area: 9.0\n"
     ]
    }
   ],
   "source": [
    "class Shape:\n",
    "    def area(self):\n",
    "        pass\n",
    "\n",
    "class Circle(Shape):\n",
    "    def __init__(self, radius):\n",
    "        self.radius = radius\n",
    "    \n",
    "    def area(self):\n",
    "        return 3.14159265359 * (self.radius ** 2)\n",
    "\n",
    "class Rectangle(Shape):\n",
    "    def __init__(self, length, width):\n",
    "        self.length = length\n",
    "        self.width = width\n",
    "    \n",
    "    def area(self):\n",
    "        return self.length * self.width\n",
    "\n",
    "class Triangle(Shape):\n",
    "    def __init__(self, base, height):\n",
    "        self.base = base\n",
    "        self.height = height\n",
    "    \n",
    "    def area(self):\n",
    "        return 0.5 * self.base * self.height\n",
    "\n",
    "circle = Circle(5)\n",
    "rectangle = Rectangle(4, 6)\n",
    "triangle = Triangle(3, 6)\n",
    "\n",
    "shapes = [circle, rectangle, triangle]\n",
    "\n",
    "for shape in shapes:\n",
    "    print(f\"Area: {shape.area()}\")\n"
   ]
  },
  {
   "cell_type": "markdown",
   "id": "c6912d00",
   "metadata": {},
   "source": [
    "12. Discuss the benefits of polymorphism in terms of code reusability and flexibility in\n",
    "Python programs"
   ]
  },
  {
   "cell_type": "markdown",
   "id": "3681a605",
   "metadata": {},
   "source": [
    "Polymorphism enhances code reusability by allowing different classes to implement a common interface, enabling the same code to work with various objects, reducing redundancy. It promotes flexibility by making it easier to add new classes without modifying existing code, simplifying maintenance and extension of programs. This flexibility supports the \"open-closed principle\" in software design, promoting a more adaptable and extensible codebase."
   ]
  },
  {
   "cell_type": "markdown",
   "id": "e155adb7",
   "metadata": {},
   "source": [
    "13. Explain the use of the `super()` function in Python polymorphism. How does it help\n",
    "call methods of parent classes?"
   ]
  },
  {
   "cell_type": "markdown",
   "id": "2c40ab61",
   "metadata": {},
   "source": [
    "The super() function in Python is used to call methods of a parent class in the context of polymorphism. It helps access and invoke overridden methods from the base class within the subclass. For example:"
   ]
  },
  {
   "cell_type": "code",
   "execution_count": 14,
   "id": "f1e68556",
   "metadata": {},
   "outputs": [
    {
     "name": "stdout",
     "output_type": "stream",
     "text": [
      "Parent class\n",
      "Child class\n"
     ]
    }
   ],
   "source": [
    "class Parent:\n",
    "    def display(self):\n",
    "        print(\"Parent class\")\n",
    "\n",
    "class Child(Parent):\n",
    "    def display(self):\n",
    "        super().display()\n",
    "        print(\"Child class\")\n",
    "\n",
    "child = Child()\n",
    "child.display()\n"
   ]
  },
  {
   "cell_type": "markdown",
   "id": "c6a0d9d0",
   "metadata": {},
   "source": [
    "14. Create a Python class hierarchy for a banking system with various account types\n",
    "(e.g., savings, checking, credit card) and demonstrate polymorphism by implementing a\n",
    "common `withdraw()` method.\n"
   ]
  },
  {
   "cell_type": "code",
   "execution_count": 16,
   "id": "42470462",
   "metadata": {},
   "outputs": [
    {
     "name": "stdout",
     "output_type": "stream",
     "text": [
      "Withdrew 500 from Savings Account.\n",
      "Withdrew 500 from Checking Account.\n",
      "Withdrew 500 from Credit Card Account.\n"
     ]
    }
   ],
   "source": [
    "class Account:\n",
    "    def __init__(self, balance):\n",
    "        self.balance = balance\n",
    "\n",
    "    def withdraw(self, amount):\n",
    "        pass\n",
    "\n",
    "class SavingsAccount(Account):\n",
    "    def withdraw(self, amount):\n",
    "        if amount <= self.balance:\n",
    "            self.balance -= amount\n",
    "            return f\"Withdrew {amount} from Savings Account.\"\n",
    "        else:\n",
    "            return \"Insufficient funds in Savings Account.\"\n",
    "\n",
    "class CheckingAccount(Account):\n",
    "    def withdraw(self, amount):\n",
    "        if amount <= self.balance:\n",
    "            self.balance -= amount\n",
    "            return f\"Withdrew {amount} from Checking Account.\"\n",
    "        else:\n",
    "            return \"Insufficient funds in Checking Account.\"\n",
    "\n",
    "class CreditCardAccount(Account):\n",
    "    def withdraw(self, amount):\n",
    "        if amount <= self.balance:\n",
    "            self.balance -= amount\n",
    "            return f\"Withdrew {amount} from Credit Card Account.\"\n",
    "        else:\n",
    "            return \"Insufficient credit limit on Credit Card.\"\n",
    "\n",
    "savings_account = SavingsAccount(1000)\n",
    "checking_account = CheckingAccount(1500)\n",
    "credit_card_account = CreditCardAccount(2000)\n",
    "\n",
    "accounts = [savings_account, checking_account, credit_card_account]\n",
    "\n",
    "for account in accounts:\n",
    "    print(account.withdraw(500))\n"
   ]
  },
  {
   "cell_type": "markdown",
   "id": "b84867d4",
   "metadata": {},
   "source": [
    "15. Describe the concept of operator overloading in Python and how it relates to\n",
    "polymorphism. Provide examples using operators like `+` and `*`"
   ]
  },
  {
   "cell_type": "markdown",
   "id": "b5163d97",
   "metadata": {},
   "source": [
    "Operator overloading in Python allows you to define the behavior of standard operators like +, *, etc., for custom objects or classes. This concept relates to polymorphism as it enables different classes to use the same operators, making code more flexible and intuitive by allowing objects of different types to work seamlessly with those operators."
   ]
  },
  {
   "cell_type": "code",
   "execution_count": 17,
   "id": "81ed5e58",
   "metadata": {},
   "outputs": [
    {
     "name": "stdout",
     "output_type": "stream",
     "text": [
      "8\n"
     ]
    }
   ],
   "source": [
    "class MyNumber:\n",
    "    def __init__(self, value):\n",
    "        self.value = value\n",
    "\n",
    "    def __add__(self, other):\n",
    "        if isinstance(other, MyNumber):\n",
    "            return MyNumber(self.value + other.value)\n",
    "        elif isinstance(other, (int, float)):\n",
    "            return MyNumber(self.value + other)\n",
    "        else:\n",
    "            raise TypeError(\"Unsupported operand type\")\n",
    "\n",
    "    def __str__(self):\n",
    "        return str(self.value)\n",
    "\n",
    "num1 = MyNumber(5)\n",
    "num2 = MyNumber(3)\n",
    "num3 = num1 + num2  \n",
    "\n",
    "print(num3) \n"
   ]
  },
  {
   "cell_type": "markdown",
   "id": "23fc0774",
   "metadata": {},
   "source": [
    "16. What is dynamic polymorphism, and how is it achieved in Python?"
   ]
  },
  {
   "cell_type": "markdown",
   "id": "7c11a0da",
   "metadata": {},
   "source": [
    "Dynamic polymorphism, also known as runtime polymorphism, is the ability to select the appropriate method or function to be executed at runtime based on the actual object's type. In Python, dynamic polymorphism is achieved through method overriding and the use of inheritance."
   ]
  },
  {
   "cell_type": "code",
   "execution_count": 23,
   "id": "c99ce4e7",
   "metadata": {},
   "outputs": [
    {
     "name": "stdout",
     "output_type": "stream",
     "text": [
      "Dog barks\n",
      "Cat meows\n"
     ]
    }
   ],
   "source": [
    "class Animal:\n",
    "    def speak(self):\n",
    "        pass\n",
    "\n",
    "class Dog(Animal):\n",
    "    def speak(self):\n",
    "        print(\"Dog barks\")\n",
    "\n",
    "class Cat(Animal):\n",
    "    def speak(self):\n",
    "        print(\"Cat meows\")\n",
    "\n",
    "def animal_sound(animal):\n",
    "    animal.speak()\n",
    "\n",
    "dog = Dog()\n",
    "cat = Cat()\n",
    "\n",
    "animal_sound(dog) \n",
    "animal_sound(cat)  \n"
   ]
  },
  {
   "cell_type": "markdown",
   "id": "ee35ea4b",
   "metadata": {},
   "source": [
    "17. Create a Python class hierarchy for employees in a company (e.g., manager,\n",
    "developer, designer) and implement polymorphism through a common\n",
    "`calculate_salary()` method."
   ]
  },
  {
   "cell_type": "code",
   "execution_count": 19,
   "id": "ef1cc2f6",
   "metadata": {},
   "outputs": [
    {
     "name": "stdout",
     "output_type": "stream",
     "text": [
      "Babu's salary: 6000\n",
      "Bupinder jogi's salary: 4500\n",
      "Elvish Bhaiii's salary: 3800\n"
     ]
    }
   ],
   "source": [
    "class Employee:\n",
    "    def __init__(self, name, base_salary):\n",
    "        self.name = name\n",
    "        self.base_salary = base_salary\n",
    "\n",
    "    def calculate_salary(self):\n",
    "        return self.base_salary\n",
    "\n",
    "class Manager(Employee):\n",
    "    def calculate_salary(self):\n",
    "        return self.base_salary + 1000\n",
    "\n",
    "class Developer(Employee):\n",
    "    def calculate_salary(self):\n",
    "        return self.base_salary + 500  \n",
    "\n",
    "class Designer(Employee):\n",
    "    def calculate_salary(self):\n",
    "        return self.base_salary + 300  \n",
    "\n",
    "manager = Manager(\"Babu\", 5000)\n",
    "developer = Developer(\"Bupinder jogi\", 4000)\n",
    "designer = Designer(\"Elvish Bhaiii\", 3500)\n",
    "\n",
    "employees = [manager, developer, designer]\n",
    "\n",
    "for employee in employees:\n",
    "    print(f\"{employee.name}'s salary: {employee.calculate_salary()}\")\n"
   ]
  },
  {
   "cell_type": "markdown",
   "id": "ca88e476",
   "metadata": {},
   "source": [
    "18. Discuss the concept of function pointers and how they can be used to achieve\n",
    "polymorphism in Python."
   ]
  },
  {
   "cell_type": "markdown",
   "id": "ada56e8a",
   "metadata": {},
   "source": [
    "In Python, function pointers, or first-class functions, allow functions to be treated as objects, enabling polymorphism through dynamic method selection. You can create dictionaries or lists of functions, selecting and invoking them based on conditions, achieving polymorphism. For example:"
   ]
  },
  {
   "cell_type": "code",
   "execution_count": 20,
   "id": "85a5e123",
   "metadata": {},
   "outputs": [
    {
     "name": "stdout",
     "output_type": "stream",
     "text": [
      "Result: 8\n"
     ]
    }
   ],
   "source": [
    "def add(a, b):\n",
    "    return a + b\n",
    "\n",
    "def subtract(a, b):\n",
    "    return a - b\n",
    "\n",
    "operation = add  \n",
    "result = operation(5, 3)\n",
    "\n",
    "print(f\"Result: {result}\")\n"
   ]
  },
  {
   "cell_type": "markdown",
   "id": "25323ce1",
   "metadata": {},
   "source": [
    "19. Explain the role of interfaces and abstract classes in polymorphism, drawing\n",
    "comparisons between them.\n"
   ]
  },
  {
   "cell_type": "markdown",
   "id": "a8657b69",
   "metadata": {},
   "source": [
    "\n",
    "Interfaces and abstract classes both play a role in achieving polymorphism by defining a common contract for classes to follow. Interfaces are entirely abstract and allow multiple inheritance, while abstract classes can contain some concrete methods and support single inheritance, providing more flexibility but with a base implementation."
   ]
  },
  {
   "cell_type": "markdown",
   "id": "47528728",
   "metadata": {},
   "source": [
    "20. Create a Python class for a zoo simulation, demonstrating polymorphism with\n",
    "different animal types (e.g., mammals, birds, reptiles) and their behavior (e.g., eating,\n",
    "sleeping, making sounds).\n"
   ]
  },
  {
   "cell_type": "code",
   "execution_count": 3,
   "id": "eb842199",
   "metadata": {},
   "outputs": [
    {
     "name": "stdout",
     "output_type": "stream",
     "text": [
      "Lion: Mammal makes a sound\n",
      "Lion: Mammal is eating\n",
      "Lion: Mammal is sleeping\n",
      "Sparrow: Bird is chirping\n",
      "Sparrow: Bird is pecking seeds\n",
      "Sparrow: Bird is roosting\n",
      "Snake: Reptile hisses\n",
      "Snake: Reptile is hunting\n",
      "Snake: Reptile is basking\n"
     ]
    }
   ],
   "source": [
    "class Animal:\n",
    "    def __init__(self, name):\n",
    "        self.name = name\n",
    "\n",
    "    def make_sound(self):\n",
    "        pass\n",
    "\n",
    "    def eat(self):\n",
    "        pass\n",
    "\n",
    "    def sleep(self):\n",
    "        pass\n",
    "\n",
    "class Mammal(Animal):\n",
    "    def make_sound(self):\n",
    "        return \"Mammal makes a sound\"\n",
    "\n",
    "    def eat(self):\n",
    "        return \"Mammal is eating\"\n",
    "\n",
    "    def sleep(self):\n",
    "        return \"Mammal is sleeping\"\n",
    "\n",
    "class Bird(Animal):\n",
    "    def make_sound(self):\n",
    "        return \"Bird is chirping\"\n",
    "\n",
    "    def eat(self):\n",
    "        return \"Bird is pecking seeds\"\n",
    "\n",
    "    def sleep(self):\n",
    "        return \"Bird is roosting\"\n",
    "\n",
    "class Reptile(Animal):\n",
    "    def make_sound(self):\n",
    "        return \"Reptile hisses\"\n",
    "\n",
    "    def eat(self):\n",
    "        return \"Reptile is hunting\"\n",
    "\n",
    "    def sleep(self):\n",
    "        return \"Reptile is basking\"\n",
    "\n",
    "lion = Mammal(\"Lion\")\n",
    "sparrow = Bird(\"Sparrow\")\n",
    "snake = Reptile(\"Snake\")\n",
    "\n",
    "zoo = [lion, sparrow, snake]\n",
    "\n",
    "for animal in zoo:\n",
    "    print(f\"{animal.name}: {animal.make_sound()}\")\n",
    "    print(f\"{animal.name}: {animal.eat()}\")\n",
    "    print(f\"{animal.name}: {animal.sleep()}\")\n"
   ]
  },
  {
   "cell_type": "markdown",
   "id": "64c997ef",
   "metadata": {},
   "source": [
    "# Abstraction"
   ]
  },
  {
   "cell_type": "markdown",
   "id": "bd7809be",
   "metadata": {},
   "source": [
    "1.What is abstraction in Python, and how does it relate to object-oriented\n",
    "programming?\n"
   ]
  },
  {
   "cell_type": "markdown",
   "id": "bddd2e01",
   "metadata": {},
   "source": [
    "Abstraction in Python involves hiding complex implementation details and exposing only essential features to the user. It facilitates creating classes with clear interfaces, promoting modularity and ease of use in object-oriented programming by emphasizing essential functionality while hiding unnecessary details."
   ]
  },
  {
   "cell_type": "markdown",
   "id": "3a838bf6",
   "metadata": {},
   "source": [
    "2. Describe the benefits of abstraction in terms of code organization and complexity\n",
    "reduction."
   ]
  },
  {
   "cell_type": "markdown",
   "id": "3bf2faf5",
   "metadata": {},
   "source": [
    "Abstraction in code organization simplifies complex systems by hiding implementation details, allowing users to interact with high-level functionalities. It reduces complexity by promoting modular design, enhancing maintainability, and facilitating easier comprehension and debugging of code."
   ]
  },
  {
   "cell_type": "markdown",
   "id": "3bba5af5",
   "metadata": {},
   "source": [
    "3. Create a Python class called `Shape` with an abstract method `calculate_area()`.\n",
    "Then, create child classes (e.g., `Circle`, `Rectangle`) that implement the\n",
    "`calculate_area()` method. Provide an example of using these classes.\n"
   ]
  },
  {
   "cell_type": "code",
   "execution_count": 4,
   "id": "2495ed7f",
   "metadata": {},
   "outputs": [
    {
     "name": "stdout",
     "output_type": "stream",
     "text": [
      "Area of the circle: 78.53981633974483\n",
      "Area of the rectangle: 24\n"
     ]
    }
   ],
   "source": [
    "from abc import ABC, abstractmethod\n",
    "import math\n",
    "\n",
    "class Shape(ABC):\n",
    "    @abstractmethod\n",
    "    def calculate_area(self):\n",
    "        pass\n",
    "\n",
    "class Circle(Shape):\n",
    "    def __init__(self, radius):\n",
    "        self.radius = radius\n",
    "    \n",
    "    def calculate_area(self):\n",
    "        return math.pi * self.radius ** 2\n",
    "\n",
    "class Rectangle(Shape):\n",
    "    def __init__(self, width, height):\n",
    "        self.width = width\n",
    "        self.height = height\n",
    "    \n",
    "    def calculate_area(self):\n",
    "        return self.width * self.height\n",
    "\n",
    "circle = Circle(5)\n",
    "print(\"Area of the circle:\", circle.calculate_area())\n",
    "\n",
    "rectangle = Rectangle(4, 6)\n",
    "print(\"Area of the rectangle:\", rectangle.calculate_area())\n"
   ]
  },
  {
   "cell_type": "markdown",
   "id": "daf266f7",
   "metadata": {},
   "source": [
    "4. Explain the concept of abstract classes in Python and how they are defined using the\n",
    "`abc` module. Provide an example.\n"
   ]
  },
  {
   "cell_type": "code",
   "execution_count": 5,
   "id": "a9b804a5",
   "metadata": {},
   "outputs": [
    {
     "name": "stdout",
     "output_type": "stream",
     "text": [
      "Area of the circle: 78.5\n",
      "Area of the rectangle: 24\n"
     ]
    }
   ],
   "source": [
    "from abc import ABC, abstractmethod\n",
    "\n",
    "class Shape(ABC):  \n",
    "    @abstractmethod\n",
    "    def calculate_area(self): \n",
    "        pass\n",
    "\n",
    "class Circle(Shape):\n",
    "    def __init__(self, radius):\n",
    "        self.radius = radius\n",
    "    \n",
    "    def calculate_area(self):\n",
    "        return 3.14 * self.radius ** 2\n",
    "\n",
    "class Rectangle(Shape):\n",
    "    def __init__(self, width, height):\n",
    "        self.width = width\n",
    "        self.height = height\n",
    "    \n",
    "    def calculate_area(self):\n",
    "        return self.width * self.height\n",
    "\n",
    "circle = Circle(5)\n",
    "print(\"Area of the circle:\", circle.calculate_area())\n",
    "\n",
    "rectangle = Rectangle(4, 6)\n",
    "print(\"Area of the rectangle:\", rectangle.calculate_area())\n"
   ]
  },
  {
   "cell_type": "markdown",
   "id": "f308d5e5",
   "metadata": {},
   "source": [
    "5. How do abstract classes differ from regular classes in Python? Discuss their use\n",
    "cases.\n"
   ]
  },
  {
   "cell_type": "markdown",
   "id": "11d0194b",
   "metadata": {},
   "source": [
    "Abstract classes cannot be instantiated and may contain abstract methods without implementation, serving as templates for subclasses to implement required methods. Regular classes can be instantiated and may contain fully defined methods, suitable for creating objects directly. Use abstract classes to define a blueprint enforcing method structure, while regular classes are used to create objects with implemented functionalities for direct use."
   ]
  },
  {
   "cell_type": "markdown",
   "id": "84e1694f",
   "metadata": {},
   "source": [
    "6. Create a Python class for a bank account and demonstrate abstraction by hiding the\n",
    "account balance and providing methods to deposit and withdraw funds.\n"
   ]
  },
  {
   "cell_type": "code",
   "execution_count": 7,
   "id": "156424f1",
   "metadata": {},
   "outputs": [
    {
     "name": "stdout",
     "output_type": "stream",
     "text": [
      "Initial balance: 1000\n",
      "Deposited 500. New balance: 1500\n",
      "Withdrew 200. New balance: 1300\n",
      "Withdrawal amount should be greater than 0 and less than or equal to the balance.\n",
      "Final balance: 1300\n"
     ]
    }
   ],
   "source": [
    "class BankAccount:\n",
    "    def __init__(self, initial_balance=0):\n",
    "        self._balance = initial_balance  \n",
    "        \n",
    "    def deposit(self, amount):\n",
    "        if amount > 0:\n",
    "            self._balance += amount\n",
    "            print(f\"Deposited {amount}. New balance: {self._balance}\")\n",
    "        else:\n",
    "            print(\"Deposit amount should be greater than 0.\")\n",
    "    \n",
    "    def withdraw(self, amount):\n",
    "        if 0 < amount <= self._balance:\n",
    "            self._balance -= amount\n",
    "            print(f\"Withdrew {amount}. New balance: {self._balance}\")\n",
    "        else:\n",
    "            print(\"Withdrawal amount should be greater than 0 and less than or equal to the balance.\")\n",
    "    \n",
    "    def get_balance(self):\n",
    "        return self._balance\n",
    "\n",
    "account = BankAccount(1000)  \n",
    "print(\"Initial balance:\", account.get_balance())\n",
    "\n",
    "account.deposit(500)\n",
    "account.withdraw(200)\n",
    "account.withdraw(1500)  \n",
    "\n",
    "print(\"Final balance:\", account.get_balance())  \n"
   ]
  },
  {
   "cell_type": "markdown",
   "id": "a465f530",
   "metadata": {},
   "source": [
    "7. Discuss the concept of interface classes in Python and their role in achieving\n",
    "abstraction."
   ]
  },
  {
   "cell_type": "markdown",
   "id": "b0200702",
   "metadata": {},
   "source": [
    "\n",
    "In Python, interface classes define a blueprint of methods without implementation, serving as contracts enforced by subclasses to implement specific behaviors. They ensure a consistent structure and behavior across multiple classes, promoting abstraction by separating the interface from implementation details."
   ]
  },
  {
   "cell_type": "markdown",
   "id": "af0fda38",
   "metadata": {},
   "source": [
    "8. Create a Python class hierarchy for animals and implement abstraction by defining\n",
    "common methods (e.g., `eat()`, `sleep()`) in an abstract base class.\n"
   ]
  },
  {
   "cell_type": "code",
   "execution_count": 9,
   "id": "04cea267",
   "metadata": {},
   "outputs": [
    {
     "name": "stdout",
     "output_type": "stream",
     "text": [
      "Buddy is eating bones.\n",
      "Buddy is sleeping in a cozy bed.\n",
      "Meow is eating fish.\n",
      "Meow is taking a nap on the sofa.\n"
     ]
    }
   ],
   "source": [
    "from abc import ABC, abstractmethod\n",
    "\n",
    "class Animal(ABC):\n",
    "    def __init__(self, name):\n",
    "        self.name = name\n",
    "    \n",
    "    @abstractmethod\n",
    "    def eat(self):\n",
    "        pass\n",
    "    \n",
    "    @abstractmethod\n",
    "    def sleep(self):\n",
    "        pass\n",
    "\n",
    "class Dog(Animal):\n",
    "    def eat(self):\n",
    "        return f\"{self.name} is eating bones.\"\n",
    "    \n",
    "    def sleep(self):\n",
    "        return f\"{self.name} is sleeping in a cozy bed.\"\n",
    "\n",
    "class Cat(Animal):\n",
    "    def eat(self):\n",
    "        return f\"{self.name} is eating fish.\"\n",
    "    \n",
    "    def sleep(self):\n",
    "        return f\"{self.name} is taking a nap on the sofa.\"\n",
    "\n",
    "dog = Dog(\"Buddy\")\n",
    "print(dog.eat())\n",
    "print(dog.sleep())\n",
    "\n",
    "cat = Cat(\"Meow\")\n",
    "print(cat.eat())\n",
    "print(cat.sleep())\n"
   ]
  },
  {
   "cell_type": "markdown",
   "id": "609470b2",
   "metadata": {},
   "source": [
    "9. Explain the significance of encapsulation in achieving abstraction. Provide examples.\n"
   ]
  },
  {
   "cell_type": "markdown",
   "id": "2d9f31c8",
   "metadata": {},
   "source": []
  },
  {
   "cell_type": "markdown",
   "id": "6198ff79",
   "metadata": {},
   "source": [
    "Encapsulation in Python restricts direct access to certain components, preserving their integrity and promoting abstraction by hiding implementation details. For instance, in a class representing a Person, encapsulating sensitive data like age with access controlled through methods ensures abstraction:"
   ]
  },
  {
   "cell_type": "code",
   "execution_count": 11,
   "id": "a168e153",
   "metadata": {},
   "outputs": [],
   "source": [
    "class Person:\n",
    "    def __init__(self, name, age):\n",
    "        self._name = name\n",
    "        self._age = age\n",
    "    \n",
    "    def get_age(self):\n",
    "        return self._age\n",
    "    \n",
    "    def set_age(self, new_age):\n",
    "        if new_age > 0:\n",
    "            self._age = new_age\n",
    "        else:\n",
    "            print(\"Age should be a positive number.\")\n"
   ]
  },
  {
   "cell_type": "markdown",
   "id": "85997f63",
   "metadata": {},
   "source": [
    "10. What is the purpose of abstract methods, and how do they enforce abstraction in\n",
    "Python classes?"
   ]
  },
  {
   "cell_type": "markdown",
   "id": "f1b140b2",
   "metadata": {},
   "source": [
    "Abstract methods in Python classes serve as placeholders without implementation, defining a required method structure in abstract classes. They enforce abstraction by mandating subclasses to provide concrete implementations, ensuring a consistent interface across different derived classes while hiding implementation details."
   ]
  },
  {
   "cell_type": "markdown",
   "id": "355e4cd4",
   "metadata": {},
   "source": [
    "11. Create a Python class for a vehicle system and demonstrate abstraction by defining\n",
    "common methods (e.g., `start()`, `stop()`) in an abstract base class."
   ]
  },
  {
   "cell_type": "code",
   "execution_count": 12,
   "id": "0efea170",
   "metadata": {},
   "outputs": [
    {
     "name": "stdout",
     "output_type": "stream",
     "text": [
      "Sedan engine started.\n",
      "Sedan engine stopped.\n",
      "Harley engine revved up.\n",
      "Harley engine halted.\n"
     ]
    }
   ],
   "source": [
    "from abc import ABC, abstractmethod\n",
    "\n",
    "class Vehicle(ABC):\n",
    "    def __init__(self, name):\n",
    "        self.name = name\n",
    "    \n",
    "    @abstractmethod\n",
    "    def start(self):\n",
    "        pass\n",
    "    \n",
    "    @abstractmethod\n",
    "    def stop(self):\n",
    "        pass\n",
    "\n",
    "class Car(Vehicle):\n",
    "    def start(self):\n",
    "        return f\"{self.name} engine started.\"\n",
    "    \n",
    "    def stop(self):\n",
    "        return f\"{self.name} engine stopped.\"\n",
    "\n",
    "class Motorcycle(Vehicle):\n",
    "    def start(self):\n",
    "        return f\"{self.name} engine revved up.\"\n",
    "    \n",
    "    def stop(self):\n",
    "        return f\"{self.name} engine halted.\"\n",
    "\n",
    "car = Car(\"Sedan\")\n",
    "print(car.start())\n",
    "print(car.stop())\n",
    "\n",
    "motorcycle = Motorcycle(\"Harley\")\n",
    "print(motorcycle.start())\n",
    "print(motorcycle.stop())\n"
   ]
  },
  {
   "cell_type": "markdown",
   "id": "b013f8fd",
   "metadata": {},
   "source": [
    "12. Describe the use of abstract properties in Python and how they can be employed in\n",
    "abstract classes.\n"
   ]
  },
  {
   "cell_type": "markdown",
   "id": "d7fd5031",
   "metadata": {},
   "source": [
    "Abstract properties in Python are defined using the @property decorator and abstractmethod to enforce property structure without implementation in abstract classes. They mandate subclasses to provide concrete property implementations, ensuring consistent property access across derived classes while maintaining abstraction of property details in the abstract class.\n"
   ]
  },
  {
   "cell_type": "markdown",
   "id": "85eaa9ba",
   "metadata": {},
   "source": [
    "13. Create a Python class hierarchy for employees in a company (e.g., manager,\n",
    "developer, designer) and implement abstraction by defining a common `get_salary()`\n",
    "method."
   ]
  },
  {
   "cell_type": "code",
   "execution_count": 15,
   "id": "15f46a64",
   "metadata": {},
   "outputs": [
    {
     "name": "stdout",
     "output_type": "stream",
     "text": [
      "Magnus's salary is 8000 per month.\n",
      "Bob's salary is 8000 for this month.\n",
      "Gukesh's salary is 6000 for this month.\n"
     ]
    }
   ],
   "source": [
    "from abc import ABC, abstractmethod\n",
    "\n",
    "class Employee(ABC):\n",
    "    def __init__(self, name, employee_id):\n",
    "        self.name = name\n",
    "        self.employee_id = employee_id\n",
    "    \n",
    "    @abstractmethod\n",
    "    def get_salary(self):\n",
    "        pass\n",
    "\n",
    "class Manager(Employee):\n",
    "    def __init__(self, name, employee_id, salary):\n",
    "        super().__init__(name, employee_id)\n",
    "        self.salary = salary\n",
    "    \n",
    "    def get_salary(self):\n",
    "        return f\"{self.name}'s salary is {self.salary} per month.\"\n",
    "\n",
    "class Developer(Employee):\n",
    "    def __init__(self, name, employee_id, hourly_rate, hours_worked):\n",
    "        super().__init__(name, employee_id)\n",
    "        self.hourly_rate = hourly_rate\n",
    "        self.hours_worked = hours_worked\n",
    "    \n",
    "    def get_salary(self):\n",
    "        return f\"{self.name}'s salary is {self.hourly_rate * self.hours_worked} for this month.\"\n",
    "\n",
    "class Designer(Employee):\n",
    "    def __init__(self, name, employee_id, monthly_rate):\n",
    "        super().__init__(name, employee_id)\n",
    "        self.monthly_rate = monthly_rate\n",
    "    \n",
    "    def get_salary(self):\n",
    "        return f\"{self.name}'s salary is {self.monthly_rate} for this month.\"\n",
    "\n",
    "manager = Manager(\"Magnus\", 1001, 8000)\n",
    "print(manager.get_salary())\n",
    "\n",
    "developer = Developer(\"Bob\", 2001, 50, 160)\n",
    "print(developer.get_salary())\n",
    "\n",
    "designer = Designer(\"Gukesh\", 3001, 6000)\n",
    "print(designer.get_salary())\n"
   ]
  },
  {
   "cell_type": "markdown",
   "id": "1d928757",
   "metadata": {},
   "source": [
    "14. Discuss the differences between abstract classes and concrete classes in Python,\n",
    "including their instantiation."
   ]
  },
  {
   "cell_type": "markdown",
   "id": "8a4360c5",
   "metadata": {},
   "source": [
    "Abstract classes in Python cannot be instantiated on their own and may contain abstract methods without implementation, while concrete classes can be instantiated directly and have fully defined methods, allowing direct object creation. For instance, an abstract class Shape with abstract methods versus a concrete class Circle implementing those methods and allowing direct instantiation of Circle objects."
   ]
  },
  {
   "cell_type": "markdown",
   "id": "cb52adf3",
   "metadata": {},
   "source": [
    "15. Explain the concept of abstract data types (ADTs) and their role in achieving\n",
    "abstraction in Python."
   ]
  },
  {
   "cell_type": "markdown",
   "id": "262ad81f",
   "metadata": {},
   "source": [
    "Abstract Data Types (ADTs) in Python refer to data structures with defined operations, hiding internal implementation details, promoting abstraction by providing a clear interface while concealing complexities, such as lists or dictionaries, allowing manipulation through specified methods while abstracting the underlying implementation."
   ]
  },
  {
   "cell_type": "markdown",
   "id": "488ce65f",
   "metadata": {},
   "source": [
    "16. Create a Python class for a computer system, demonstrating abstraction by defining\n",
    "common methods (e.g., `power_on()`, `shutdown()`) in an abstract base class.\n"
   ]
  },
  {
   "cell_type": "code",
   "execution_count": 16,
   "id": "eba5c875",
   "metadata": {},
   "outputs": [
    {
     "name": "stdout",
     "output_type": "stream",
     "text": [
      "Lenovo desktop powered on.\n",
      "Lenovo desktop shutting down.\n",
      "Dell laptop powered on.\n",
      "Dell laptop shutting down.\n"
     ]
    }
   ],
   "source": [
    "from abc import ABC, abstractmethod\n",
    "\n",
    "class Computer(ABC):\n",
    "    def __init__(self, brand):\n",
    "        self.brand = brand\n",
    "    \n",
    "    @abstractmethod\n",
    "    def power_on(self):\n",
    "        pass\n",
    "    \n",
    "    @abstractmethod\n",
    "    def shutdown(self):\n",
    "        pass\n",
    "\n",
    "class Desktop(Computer):\n",
    "    def power_on(self):\n",
    "        return f\"{self.brand} desktop powered on.\"\n",
    "    \n",
    "    def shutdown(self):\n",
    "        return f\"{self.brand} desktop shutting down.\"\n",
    "\n",
    "class Laptop(Computer):\n",
    "    def power_on(self):\n",
    "        return f\"{self.brand} laptop powered on.\"\n",
    "    \n",
    "    def shutdown(self):\n",
    "        return f\"{self.brand} laptop shutting down.\"\n",
    "\n",
    "desktop = Desktop(\"Lenovo\")\n",
    "print(desktop.power_on())\n",
    "print(desktop.shutdown())\n",
    "\n",
    "laptop = Laptop(\"Dell\")\n",
    "print(laptop.power_on())\n",
    "print(laptop.shutdown())\n"
   ]
  },
  {
   "cell_type": "markdown",
   "id": "f857f359",
   "metadata": {},
   "source": [
    "17. Discuss the benefits of using abstraction in large-scale software development\n",
    "projects."
   ]
  },
  {
   "cell_type": "markdown",
   "id": "b3ccfcb5",
   "metadata": {},
   "source": [
    "Abstraction in large-scale software projects promotes modular design, allowing isolated development of components, enhancing maintainability, and reducing dependencies. It aids in managing complexity by providing clear interfaces, hiding implementation details, and facilitating easier comprehension and collaboration among development teams."
   ]
  },
  {
   "cell_type": "markdown",
   "id": "1317c711",
   "metadata": {},
   "source": [
    "18. Explain how abstraction enhances code reusability and modularity in Python\n",
    "programs."
   ]
  },
  {
   "cell_type": "markdown",
   "id": "73d2b4f4",
   "metadata": {},
   "source": [
    "Abstraction in Python allows developers to create reusable components by hiding implementation details and exposing clear interfaces. This promotes modularity, enabling these components to be easily reused across different parts of the program or in entirely different programs, reducing redundancy and enhancing code maintainability and scalability. By defining abstract classes or interfaces, Python facilitates the creation of interchangeable components, fostering code reusability and ensuring modularity, which contributes to cleaner, more efficient, and easily maintainable codebases"
   ]
  },
  {
   "cell_type": "markdown",
   "id": "e537c0cf",
   "metadata": {},
   "source": [
    "19. Create a Python class for a library system, implementing abstraction by defining\n",
    "common methods (e.g., `add_book()`, `borrow_book()`) in an abstract base class.\n"
   ]
  },
  {
   "cell_type": "code",
   "execution_count": 17,
   "id": "e8004149",
   "metadata": {
    "collapsed": true
   },
   "outputs": [
    {
     "name": "stdout",
     "output_type": "stream",
     "text": [
      "Added 'Python Programming' to City Public Library's collection.\n",
      "Borrowed 'Python Programming' from City Public Library.\n",
      "'Machine Learning Essentials' is not available in City Public Library.\n",
      "Added 'Chemistry Basics' to High School Library's collection.\n",
      "Borrowed 'Chemistry Basics' from High School Library.\n",
      "'Physics for Beginners' is not available in High School Library.\n"
     ]
    }
   ],
   "source": [
    "from abc import ABC, abstractmethod\n",
    "\n",
    "class LibrarySystem(ABC):\n",
    "    def __init__(self, name):\n",
    "        self.name = name\n",
    "    \n",
    "    @abstractmethod\n",
    "    def add_book(self, book_title):\n",
    "        pass\n",
    "    \n",
    "    @abstractmethod\n",
    "    def borrow_book(self, book_title):\n",
    "        pass\n",
    "\n",
    "class PublicLibrary(LibrarySystem):\n",
    "    def __init__(self, name):\n",
    "        super().__init__(name)\n",
    "        self.books_available = []\n",
    "    \n",
    "    def add_book(self, book_title):\n",
    "        self.books_available.append(book_title)\n",
    "        print(f\"Added '{book_title}' to {self.name}'s collection.\")\n",
    "    \n",
    "    def borrow_book(self, book_title):\n",
    "        if book_title in self.books_available:\n",
    "            self.books_available.remove(book_title)\n",
    "            print(f\"Borrowed '{book_title}' from {self.name}.\")\n",
    "        else:\n",
    "            print(f\"'{book_title}' is not available in {self.name}.\")\n",
    "\n",
    "class SchoolLibrary(LibrarySystem):\n",
    "    def __init__(self, name):\n",
    "        super().__init__(name)\n",
    "        self.books_available = []\n",
    "    \n",
    "    def add_book(self, book_title):\n",
    "        self.books_available.append(book_title)\n",
    "        print(f\"Added '{book_title}' to {self.name}'s collection.\")\n",
    "    \n",
    "    def borrow_book(self, book_title):\n",
    "        if book_title in self.books_available:\n",
    "            self.books_available.remove(book_title)\n",
    "            print(f\"Borrowed '{book_title}' from {self.name}.\")\n",
    "        else:\n",
    "            print(f\"'{book_title}' is not available in {self.name}.\")\n",
    "\n",
    "public_library = PublicLibrary(\"City Public Library\")\n",
    "public_library.add_book(\"Python Programming\")\n",
    "public_library.borrow_book(\"Python Programming\")\n",
    "public_library.borrow_book(\"Machine Learning Essentials\")\n",
    "\n",
    "school_library = SchoolLibrary(\"High School Library\")\n",
    "school_library.add_book(\"Chemistry Basics\")\n",
    "school_library.borrow_book(\"Chemistry Basics\")\n",
    "school_library.borrow_book(\"Physics for Beginners\")\n"
   ]
  },
  {
   "cell_type": "markdown",
   "id": "d6c30813",
   "metadata": {},
   "source": [
    "20. Describe the concept of method abstraction in Python and how it relates to\n",
    "polymorphism"
   ]
  },
  {
   "cell_type": "markdown",
   "id": "ab2ee9b9",
   "metadata": {},
   "source": [
    "Method abstraction in Python involves defining methods in an abstract manner without implementation details, encouraging subclasses to provide their own specific implementations. Polymorphism utilizes method abstraction by allowing different objects to be treated uniformly through a common interface, enabling dynamic method invocation based on object types, enhancing flexibility and code reusability."
   ]
  },
  {
   "cell_type": "markdown",
   "id": "5f99908c",
   "metadata": {},
   "source": [
    "# Composition"
   ]
  },
  {
   "cell_type": "markdown",
   "id": "5cb5bf5f",
   "metadata": {},
   "source": [
    "1. Explain the concept of composition in Python and how it is used to build complex\n",
    "objects from simpler ones."
   ]
  },
  {
   "cell_type": "markdown",
   "id": "f392fac6",
   "metadata": {},
   "source": [
    "Composition in Python involves creating complex objects by combining simpler objects as components or parts, allowing classes to be constructed by utilizing instances of other classes within them, enhancing reusability and modularity in code.\n",
    "\n",
    "\n",
    "\n",
    "\n",
    "\n"
   ]
  },
  {
   "cell_type": "markdown",
   "id": "f3ce6620",
   "metadata": {},
   "source": [
    "2. Describe the difference between composition and inheritance in object-oriented\n",
    "programming"
   ]
  },
  {
   "cell_type": "markdown",
   "id": "0a492dc3",
   "metadata": {},
   "source": [
    "Composition involves constructing classes using instances of other classes, focusing on \"has-a\" relationships, promoting flexibility and reducing coupling, while inheritance creates new classes by extending existing ones, establishing an \"is-a\" relationship, potentially leading to tight coupling and reduced flexibility."
   ]
  },
  {
   "cell_type": "markdown",
   "id": "4e012b2e",
   "metadata": {},
   "source": [
    "3. Create a Python class called `Author` with attributes for name and birthdate. Then,\n",
    "create a `Book` class that contains an instance of `Author` as a composition. Provide an\n",
    "example of creating a `Book` object."
   ]
  },
  {
   "cell_type": "code",
   "execution_count": 3,
   "id": "b095d5ca",
   "metadata": {},
   "outputs": [],
   "source": [
    "class Author:\n",
    "    def __init__(self, name, birthdate):\n",
    "        self.name = name\n",
    "        self.birthdate = birthdate\n",
    "\n",
    "class Book:\n",
    "    def __init__(self, title, author):\n",
    "        self.title = title\n",
    "        self.author = author\n",
    "\n",
    "author_instance = Author(\"Python\", \"July 31, 1965\")\n",
    "book_instance = Book(\"Harry Potter\", author_instance)\n"
   ]
  },
  {
   "cell_type": "markdown",
   "id": "3aa61d01",
   "metadata": {},
   "source": [
    "4. Discuss the benefits of using composition over inheritance in Python, especially in\n",
    "terms of code flexibility and reusability"
   ]
  },
  {
   "cell_type": "markdown",
   "id": "ed25b180",
   "metadata": {},
   "source": [
    "Composition allows for flexible relationships between classes, reducing tight coupling, enabling easy modification of components, and promoting code reuse, thereby preventing complexities associated with deep inheritance hierarchies in Python."
   ]
  },
  {
   "cell_type": "markdown",
   "id": "82c10e7b",
   "metadata": {},
   "source": [
    "5. How can you implement composition in Python classes? Provide examples of using\n",
    "composition to create complex objects."
   ]
  },
  {
   "cell_type": "markdown",
   "id": "6d092d41",
   "metadata": {},
   "source": [
    "Implement composition by including instances of other classes as attributes within a class, utilizing their functionalities."
   ]
  },
  {
   "cell_type": "code",
   "execution_count": 4,
   "id": "f05a054d",
   "metadata": {},
   "outputs": [
    {
     "name": "stdout",
     "output_type": "stream",
     "text": [
      "Engine started\n"
     ]
    }
   ],
   "source": [
    "class Engine:\n",
    "    def start(self):\n",
    "        print(\"Engine started\")\n",
    "\n",
    "class Car:\n",
    "    def __init__(self):\n",
    "        self.engine = Engine()\n",
    "\n",
    "my_car = Car()\n",
    "my_car.engine.start() \n"
   ]
  },
  {
   "cell_type": "markdown",
   "id": "ef4b0994",
   "metadata": {},
   "source": [
    "6. Create a Python class hierarchy for a music player system, using composition to\n",
    "represent playlists and songs."
   ]
  },
  {
   "cell_type": "code",
   "execution_count": 6,
   "id": "2f7bb0ef",
   "metadata": {},
   "outputs": [],
   "source": [
    "class Song:\n",
    "    def __init__(self, title, artist):\n",
    "        self.title = title\n",
    "        self.artist = artist\n",
    "\n",
    "class Playlist:\n",
    "    def __init__(self, name):\n",
    "        self.name = name\n",
    "        self.songs = []\n",
    "\n",
    "    def add_song(self, song):\n",
    "        self.songs.append(song)\n",
    "\n",
    "class MusicPlayer:\n",
    "    def __init__(self):\n",
    "        self.playlists = []\n",
    "\n",
    "    def create_playlist(self, name):\n",
    "        playlist = Playlist(name)\n",
    "        self.playlists.append(playlist)\n",
    "        return playlist\n",
    "\n",
    "    def add_song_to_playlist(self, playlist, song):\n",
    "        playlist.add_song(song)\n",
    "\n",
    "song1 = Song(\"Shape of You\", \"Ed Sheeran\")\n",
    "song2 = Song(\"Bohemian Rhapsody\", \"Bohemia)\n",
    "\n",
    "player = MusicPlayer()\n",
    "playlist1 = player.create_playlist(\"Favorites\")\n",
    "player.add_song_to_playlist(playlist1, song1)\n",
    "player.add_song_to_playlist(playlist1, song2)\n"
   ]
  },
  {
   "cell_type": "markdown",
   "id": "23865e7a",
   "metadata": {},
   "source": [
    "7. Explain the concept of \"has-a\" relationships in composition and how it helps design\n",
    "software systems"
   ]
  },
  {
   "cell_type": "markdown",
   "id": "edca7806",
   "metadata": {},
   "source": [
    "\"Has-a\" relationships in composition imply that a class contains another class as a component, enabling modular design by allowing classes to utilize functionalities of other classes without inheriting their entire structure, promoting code reusability and flexibility in software systems."
   ]
  },
  {
   "cell_type": "markdown",
   "id": "eb8a5f32",
   "metadata": {},
   "source": [
    "8. Create a Python class for a computer system, using composition to represent\n",
    "components like CPU, RAM, and storage devices"
   ]
  },
  {
   "cell_type": "code",
   "execution_count": 19,
   "id": "4b4a7393",
   "metadata": {},
   "outputs": [],
   "source": [
    "class CPU:\n",
    "    def __init__(self, brand, speed):\n",
    "        self.brand = brand\n",
    "        self.speed = speed\n",
    "\n",
    "class RAM:\n",
    "    def __init__(self, size_GB, type):\n",
    "        self.size_GB = size_GB\n",
    "        self.type = type\n",
    "\n",
    "class Storage:\n",
    "    def __init__(self, capacity_GB, type):\n",
    "        self.capacity_GB = capacity_GB\n",
    "        self.type = type\n",
    "\n",
    "class Computer:\n",
    "    def __init__(self, cpu, ram, storage):\n",
    "        self.cpu = cpu\n",
    "        self.ram = ram\n",
    "        self.storage = storage\n",
    "    \n",
    "\n",
    "cpu = CPU(\"Intel\", \"3.2GHz\")\n",
    "ram = RAM(16, \"DDR4\")\n",
    "storage = Storage(512, \"SSD\")\n"
   ]
  },
  {
   "cell_type": "markdown",
   "id": "5ea973fe",
   "metadata": {},
   "source": [
    "9. Describe the concept of \"delegation\" in composition and how it simplifies the design\n",
    "of complex systems."
   ]
  },
  {
   "cell_type": "markdown",
   "id": "a93df0bb",
   "metadata": {},
   "source": [
    "Delegation in composition involves assigning responsibilities to components, allowing them to handle specific tasks, thereby simplifying complex systems by promoting modular and focused functionalities, enhancing maintainability and flexibility in design."
   ]
  },
  {
   "cell_type": "markdown",
   "id": "5e63cbd2",
   "metadata": {},
   "source": [
    "10. Create a Python class for a car, using composition to represent components like the\n",
    "engine, wheels, and transmission."
   ]
  },
  {
   "cell_type": "code",
   "execution_count": 22,
   "id": "584c19a9",
   "metadata": {},
   "outputs": [
    {
     "name": "stdout",
     "output_type": "stream",
     "text": [
      "Engine started\n",
      "Gear changed\n",
      "Wheel rotating\n",
      "Wheel rotating\n",
      "Wheel rotating\n",
      "Wheel rotating\n"
     ]
    }
   ],
   "source": [
    "class Engine:\n",
    "    def __init__(self, fuel_type, horsepower):\n",
    "        self.fuel_type = fuel_type\n",
    "        self.horsepower = horsepower\n",
    "\n",
    "    def start(self):\n",
    "        print(\"Engine started\")\n",
    "\n",
    "class Wheel:\n",
    "    def __init__(self, size, brand):\n",
    "        self.size = size\n",
    "        self.brand = brand\n",
    "\n",
    "    def rotate(self):\n",
    "        print(\"Wheel rotating\")\n",
    "\n",
    "class Transmission:\n",
    "    def __init__(self, transmission_type):\n",
    "        self.transmission_type = transmission_type\n",
    "\n",
    "    def change_gear(self):\n",
    "        print(\"Gear changed\")\n",
    "\n",
    "class Car:\n",
    "    def __init__(self, engine, wheels, transmission):\n",
    "        self.engine = engine\n",
    "        self.wheels = wheels\n",
    "        self.transmission = transmission\n",
    "\n",
    "    def start_engine(self):\n",
    "        self.engine.start()\n",
    "\n",
    "    def drive(self):\n",
    "        self.transmission.change_gear()\n",
    "        for wheel in self.wheels:\n",
    "            wheel.rotate()\n",
    "\n",
    "engine = Engine(\"Petrol\", 200)\n",
    "wheel1 = Wheel(18, \"Michelin\")\n",
    "wheel2 = Wheel(18, \"Michelin\")\n",
    "wheel3 = Wheel(18, \"Michelin\")\n",
    "wheel4 = Wheel(18, \"Michelin\")\n",
    "wheels = [wheel1, wheel2, wheel3, wheel4]\n",
    "transmission = Transmission(\"Automatic\")\n",
    "\n",
    "my_car = Car(engine, wheels, transmission)\n",
    "my_car.start_engine()\n",
    "my_car.drive()\n"
   ]
  },
  {
   "cell_type": "markdown",
   "id": "290115cf",
   "metadata": {},
   "source": [
    "11. How can you encapsulate and hide the details of composed objects in Python\n",
    "classes to maintain abstraction?"
   ]
  },
  {
   "cell_type": "markdown",
   "id": "3963bc97",
   "metadata": {},
   "source": [
    "You can encapsulate and hide the details of composed objects in Python classes by using private variables, methods, or properties within the class. This approach ensures that the internal implementation details of composed objects are not directly accessible from outside the class, maintaining abstraction."
   ]
  },
  {
   "cell_type": "code",
   "execution_count": 23,
   "id": "b308eb0d",
   "metadata": {},
   "outputs": [],
   "source": [
    "class ComplexObject:\n",
    "    def __init__(self):\n",
    "        self._component = Component() \n",
    "\n",
    "    def _internal_method(self):\n",
    "        pass\n",
    "\n",
    "    def perform_operation(self):\n",
    "        self._component.do_something()\n",
    "        self._internal_method()\n"
   ]
  },
  {
   "cell_type": "markdown",
   "id": "8c3080df",
   "metadata": {},
   "source": [
    "12. Create a Python class for a university course, using composition to represent\n",
    "students, instructors, and course materials."
   ]
  },
  {
   "cell_type": "code",
   "execution_count": 25,
   "id": "bf55e1a2",
   "metadata": {},
   "outputs": [],
   "source": [
    "class Student:\n",
    "    def __init__(self, student_id, name):\n",
    "        self.student_id = student_id\n",
    "        self.name = name\n",
    "\n",
    "class Instructor:\n",
    "    def __init__(self, instructor_id, name):\n",
    "        self.instructor_id = instructor_id\n",
    "        self.name = name\n",
    "\n",
    "class CourseMaterial:\n",
    "    def __init__(self, material_name, content):\n",
    "        self.material_name = material_name\n",
    "        self.content = content\n",
    "\n",
    "class UniversityCourse:\n",
    "    def __init__(self, course_name, instructor, students, course_materials):\n",
    "        self.course_name = course_name\n",
    "        self.instructor = instructor\n",
    "        self.students = students\n",
    "        self.course_materials = course_materials\n",
    "\n",
    "student1 = Student(1, \"Ram\")\n",
    "student2 = Student(2, \"Sham\")\n",
    "instructor = Instructor(101, \"Professor Smith\")\n",
    "\n",
    "material1 = CourseMaterial(\"Lecture Slides\", \"Introduction to Python\")\n",
    "material2 = CourseMaterial(\"Assignments\", \"Problem sets for practice\")\n",
    "\n",
    "students_list = [student1, student2]\n",
    "materials_list = [material1, material2]\n",
    "\n",
    "course = UniversityCourse(\"Python Programming\", instructor, students_list, materials_list)\n"
   ]
  },
  {
   "cell_type": "markdown",
   "id": "d6ed39ab",
   "metadata": {},
   "source": [
    "13. Discuss the challenges and drawbacks of composition, such as increased\n",
    "complexity and potential for tight coupling between objects."
   ]
  },
  {
   "cell_type": "markdown",
   "id": "4a660fa1",
   "metadata": {},
   "source": [
    "Composition, while offering modularity, can escalate complexity by managing numerous interconnected components, potentially leading to intricate systems that demand meticulous design and maintenance. Improperly managed composition might induce tight coupling, where changes in one component affect others, impeding flexibility and increasing dependencies within the codebase. Balancing the relationships between components becomes crucial to prevent entangled structures, abstraction leakage, and maintenance difficulties in large-scale systems."
   ]
  },
  {
   "cell_type": "code",
   "execution_count": 26,
   "id": "ee60c15e",
   "metadata": {},
   "outputs": [],
   "source": [
    "class Ingredient:\n",
    "    def __init__(self, name, quantity):\n",
    "        self.name = name\n",
    "        self.quantity = quantity\n",
    "\n",
    "class Dish:\n",
    "    def __init__(self, name, ingredients):\n",
    "        self.name = name\n",
    "        self.ingredients = ingredients\n",
    "\n",
    "class Menu:\n",
    "    def __init__(self, name, dishes):\n",
    "        self.name = name\n",
    "        self.dishes = dishes\n",
    "\n",
    "class Restaurant:\n",
    "    def __init__(self, name, menus):\n",
    "        self.name = name\n",
    "        self.menus = menus\n",
    "\n",
    "ingredient1 = Ingredient(\"Tomato\", 3)\n",
    "ingredient2 = Ingredient(\"Cheese\", 2)\n",
    "ingredient3 = Ingredient(\"Dough\", 1)\n",
    "\n",
    "pizza_ingredients = [ingredient1, ingredient2, ingredient3]\n",
    "pizza = Dish(\"Pizza\", pizza_ingredients)\n",
    "\n",
    "pasta_ingredients = [ingredient1, ingredient2]\n",
    "pasta = Dish(\"Pasta\", pasta_ingredients)\n",
    "\n",
    "menu1 = Menu(\"Italian Cuisine\", [pizza, pasta])\n",
    "\n",
    "restaurant = Restaurant(\"Fine Dining\", [menu1])\n"
   ]
  },
  {
   "cell_type": "markdown",
   "id": "e8e8f2fd",
   "metadata": {},
   "source": [
    "15. Explain how composition enhances code maintainability and modularity in Python\n",
    "programs."
   ]
  },
  {
   "cell_type": "markdown",
   "id": "0464c0aa",
   "metadata": {},
   "source": [
    "Composition in Python fosters code maintainability and modularity by allowing the construction of classes using smaller, independent components, facilitating easier modifications, promoting reusability, and reducing interdependencies, thus improving the overall structure and manageability of the codebase."
   ]
  },
  {
   "cell_type": "code",
   "execution_count": 27,
   "id": "d95346a3",
   "metadata": {},
   "outputs": [],
   "source": [
    "class Weapon:\n",
    "    def __init__(self, name, damage):\n",
    "        self.name = name\n",
    "        self.damage = damage\n",
    "\n",
    "class Armor:\n",
    "    def __init__(self, name, defense):\n",
    "        self.name = name\n",
    "        self.defense = defense\n",
    "\n",
    "class Inventory:\n",
    "    def __init__(self, items=None):\n",
    "        self.items = items if items is not None else []\n",
    "\n",
    "    def add_item(self, item):\n",
    "        self.items.append(item)\n",
    "\n",
    "class GameCharacter:\n",
    "    def __init__(self, name, weapon, armor, inventory):\n",
    "        self.name = name\n",
    "        self.weapon = weapon\n",
    "        self.armor = armor\n",
    "        self.inventory = inventory\n",
    "\n",
    "sword = Weapon(\"Sword\", 20)\n",
    "shield = Armor(\"Shield\", 10)\n",
    "inventory = Inventory()\n",
    "\n",
    "player_character = GameCharacter(\"Player\", sword, shield, inventory)\n"
   ]
  },
  {
   "cell_type": "markdown",
   "id": "0ee39a4e",
   "metadata": {},
   "source": [
    "17. Describe the concept of \"aggregation\" in composition and how it differs from simple\n",
    "composition"
   ]
  },
  {
   "cell_type": "markdown",
   "id": "52505aa6",
   "metadata": {},
   "source": [
    "\n",
    "Aggregation in composition refers to a \"has-a\" relationship where an object contains other objects, emphasizing a whole-part relationship, often allowing objects to exist independently. It differs from simple composition as it enables objects to be shared between multiple entities, allowing their lifecycle to be managed separately."
   ]
  },
  {
   "cell_type": "markdown",
   "id": "f8e98484",
   "metadata": {},
   "source": [
    "18. Create a Python class for a house, using composition to represent rooms, furniture,\n",
    "and appliances."
   ]
  },
  {
   "cell_type": "code",
   "execution_count": 28,
   "id": "19a3b18b",
   "metadata": {},
   "outputs": [],
   "source": [
    "class Furniture:\n",
    "    def __init__(self, name):\n",
    "        self.name = name\n",
    "\n",
    "class Appliance:\n",
    "    def __init__(self, name):\n",
    "        self.name = name\n",
    "\n",
    "class Room:\n",
    "    def __init__(self, name, furniture=None, appliances=None):\n",
    "        self.name = name\n",
    "        self.furniture = furniture if furniture is not None else []\n",
    "        self.appliances = appliances if appliances is not None else []\n",
    "\n",
    "    def add_furniture(self, furniture):\n",
    "        self.furniture.append(furniture)\n",
    "\n",
    "    def add_appliance(self, appliance):\n",
    "        self.appliances.append(appliance)\n",
    "\n",
    "class House:\n",
    "    def __init__(self, rooms=None):\n",
    "        self.rooms = rooms if rooms is not None else []\n",
    "\n",
    "    def add_room(self, room):\n",
    "        self.rooms.append(room)\n",
    "\n",
    "sofa = Furniture(\"Sofa\")\n",
    "table = Furniture(\"Coffee Table\")\n",
    "fridge = Appliance(\"Refrigerator\")\n",
    "oven = Appliance(\"Oven\")\n",
    "\n",
    "living_room = Room(\"Living Room\", [sofa, table], [fridge])\n",
    "kitchen = Room(\"Kitchen\", appliances=[oven])\n",
    "\n",
    "my_house = House([living_room, kitchen])\n"
   ]
  },
  {
   "cell_type": "markdown",
   "id": "334a07ed",
   "metadata": {},
   "source": [
    "19. How can you achieve flexibility in composed objects by allowing them to be\n",
    "replaced or modified dynamically at runtime?"
   ]
  },
  {
   "cell_type": "raw",
   "id": "b2171c59",
   "metadata": {},
   "source": [
    "Use dependency injection, allowing dynamic swapping of components by passing them as parameters during instantiation or utilizing setter methods.\n",
    "Implement polymorphism via interfaces or base classes, enabling various implementations to interchangeably fulfill a defined contract.\n",
    "Apply design patterns like Strategy Pattern or Factory Pattern, permitting dynamic component swapping or modification without altering the object's core structure."
   ]
  },
  {
   "cell_type": "markdown",
   "id": "fd0cb1fa",
   "metadata": {},
   "source": [
    "20. Create a Python class for a social media application, using composition to represent\n",
    "users, posts, and comments."
   ]
  },
  {
   "cell_type": "code",
   "execution_count": 30,
   "id": "80152793",
   "metadata": {},
   "outputs": [],
   "source": [
    "class Comment:\n",
    "    def __init__(self, text, user):\n",
    "        self.text = text\n",
    "        self.user = user\n",
    "\n",
    "class Post:\n",
    "    def __init__(self, content, user, comments=None):\n",
    "        self.content = content\n",
    "        self.user = user\n",
    "        self.comments = comments if comments is not None else []\n",
    "\n",
    "    def add_comment(self, comment):\n",
    "        self.comments.append(comment)\n",
    "\n",
    "class User:\n",
    "    def __init__(self, username):\n",
    "        self.username = username\n",
    "\n",
    "class SocialMediaApp:\n",
    "    def __init__(self, users=None, posts=None):\n",
    "        self.users = users if users is not None else []\n",
    "        self.posts = posts if posts is not None else []\n",
    "\n",
    "    def add_user(self, user):\n",
    "        self.users.append(user)\n",
    "\n",
    "    def create_post(self, content, user):\n",
    "        post = Post(content, user)\n",
    "        self.posts.append(post)\n",
    "        return post\n",
    "\n",
    "user1 = User(\"Alice\")\n",
    "user2 = User(\"Bob\")\n",
    "\n",
    "app = SocialMediaApp([user1, user2])\n",
    "\n",
    "post = app.create_post(\"Hello, everyone!\", user1)\n",
    "comment1 = Comment(\"Great post!\", user2)\n",
    "comment2 = Comment(\"Thanks for sharing!\", user1)\n",
    "\n",
    "post.add_comment(comment1)\n",
    "post.add_comment(comment2)\n"
   ]
  },
  {
   "cell_type": "code",
   "execution_count": null,
   "id": "3189e1ee",
   "metadata": {},
   "outputs": [],
   "source": []
  },
  {
   "cell_type": "code",
   "execution_count": null,
   "id": "f7c6b30a",
   "metadata": {},
   "outputs": [],
   "source": []
  },
  {
   "cell_type": "code",
   "execution_count": null,
   "id": "ded84bcd",
   "metadata": {},
   "outputs": [],
   "source": []
  },
  {
   "cell_type": "code",
   "execution_count": null,
   "id": "462161d4",
   "metadata": {},
   "outputs": [],
   "source": []
  },
  {
   "cell_type": "code",
   "execution_count": null,
   "id": "0e93c9c1",
   "metadata": {},
   "outputs": [],
   "source": []
  },
  {
   "cell_type": "code",
   "execution_count": null,
   "id": "b958a662",
   "metadata": {},
   "outputs": [],
   "source": []
  }
 ],
 "metadata": {
  "kernelspec": {
   "display_name": "Python 3 (ipykernel)",
   "language": "python",
   "name": "python3"
  },
  "language_info": {
   "codemirror_mode": {
    "name": "ipython",
    "version": 3
   },
   "file_extension": ".py",
   "mimetype": "text/x-python",
   "name": "python",
   "nbconvert_exporter": "python",
   "pygments_lexer": "ipython3",
   "version": "3.10.9"
  }
 },
 "nbformat": 4,
 "nbformat_minor": 5
}
